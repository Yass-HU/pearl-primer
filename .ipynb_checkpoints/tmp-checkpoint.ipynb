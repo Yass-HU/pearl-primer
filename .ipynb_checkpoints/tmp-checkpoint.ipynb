{
 "cells": [
  {
   "cell_type": "code",
   "execution_count": 1,
   "metadata": {},
   "outputs": [],
   "source": [
    "import math\n",
    "import scipy as sp\n",
    "import numpy as np\n",
    "import pandas as pd\n",
    "import matplotlib as mpl\n",
    "import matplotlib.pyplot as plt\n",
    "%matplotlib inline\n",
    "plt.style.use('seaborn-darkgrid')\n",
    "import seaborn as sns"
   ]
  },
  {
   "cell_type": "code",
   "execution_count": 2,
   "metadata": {},
   "outputs": [
    {
     "data": {
      "text/plain": [
       "0     3000\n",
       "1     3000\n",
       "2     3000\n",
       "3     3000\n",
       "4     3000\n",
       "5     3000\n",
       "6     3000\n",
       "7     3000\n",
       "8     3000\n",
       "9     3000\n",
       "10    3000\n",
       "11    3000\n",
       "12    4000\n",
       "13    4000\n",
       "14    4000\n",
       "15    5000\n",
       "16    5000\n",
       "17    5000\n",
       "18    5000\n",
       "19    5000\n",
       "20    5000\n",
       "21    5000\n",
       "22    5000\n",
       "23    5000\n",
       "24    5000\n",
       "25    5000\n",
       "26    5000\n",
       "27    5000\n",
       "28    5000\n",
       "29    5000\n",
       "30    6000\n",
       "31    6000\n",
       "32    7000\n",
       "33    7000\n",
       "34    7000\n",
       "35    7000\n",
       "36    7000\n",
       "37    8000\n",
       "38    8000\n",
       "39    8000\n",
       "40    8000\n",
       "41    8000\n",
       "42    8000\n",
       "43    8000\n",
       "44    8000\n",
       "45    8000\n",
       "46    8000\n",
       "47    8000\n",
       "48    8000\n",
       "49    8000\n",
       "dtype: int64"
      ]
     },
     "execution_count": 2,
     "metadata": {},
     "output_type": "execute_result"
    }
   ],
   "source": [
    "dados = [\n",
    "    np.repeat(3000, 12).tolist(),\n",
    "    np.repeat(4000, 3).tolist(),\n",
    "    np.repeat(5000, 15).tolist(),\n",
    "    np.repeat(6000, 2).tolist(),\n",
    "    np.repeat(7000, 5).tolist(),\n",
    "    np.repeat(8000, 13).tolist()\n",
    "]\n",
    "\n",
    "renda = []\n",
    "\n",
    "for c in dados:\n",
    "    renda.extend(c)\n",
    "\n",
    "renda = pd.Series(renda)\n",
    "\n",
    "renda"
   ]
  },
  {
   "cell_type": "code",
   "execution_count": 3,
   "metadata": {},
   "outputs": [
    {
     "data": {
      "text/plain": [
       "count      50.000000\n",
       "mean     5480.000000\n",
       "std      1908.520102\n",
       "min      3000.000000\n",
       "25%      4000.000000\n",
       "50%      5000.000000\n",
       "75%      7750.000000\n",
       "max      8000.000000\n",
       "dtype: float64"
      ]
     },
     "execution_count": 3,
     "metadata": {},
     "output_type": "execute_result"
    }
   ],
   "source": [
    "renda.describe()"
   ]
  },
  {
   "cell_type": "code",
   "execution_count": 7,
   "metadata": {},
   "outputs": [
    {
     "data": {
      "text/plain": [
       "<matplotlib.axes._subplots.AxesSubplot at 0x7f85c0bbd7b8>"
      ]
     },
     "execution_count": 7,
     "metadata": {},
     "output_type": "execute_result"
    },
    {
     "data": {
      "image/png": "[encoded data removed]",
      "text/plain": [
       "<Figure size 432x288 with 1 Axes>"
      ]
     },
     "metadata": {},
     "output_type": "display_data"
    }
   ],
   "source": [
    "renda.hist(bins=6)"
   ]
  },
  {
   "cell_type": "code",
   "execution_count": 16,
   "metadata": {},
   "outputs": [],
   "source": [
    "renda2 = renda.value_counts().sort_index()\n",
    "renda2 = renda2*100/renda2.sum()"
   ]
  },
  {
   "cell_type": "code",
   "execution_count": 17,
   "metadata": {},
   "outputs": [
    {
     "data": {
      "text/plain": [
       "3000    24.0\n",
       "4000     6.0\n",
       "5000    30.0\n",
       "6000     4.0\n",
       "7000    10.0\n",
       "8000    26.0\n",
       "dtype: float64"
      ]
     },
     "execution_count": 17,
     "metadata": {},
     "output_type": "execute_result"
    }
   ],
   "source": [
    "renda2"
   ]
  }
 ],
 "metadata": {
  "kernelspec": {
   "display_name": "Python 3",
   "language": "python",
   "name": "python3"
  },
  "language_info": {
   "codemirror_mode": {
    "name": "ipython",
    "version": 3
   },
   "file_extension": ".py",
   "mimetype": "text/x-python",
   "name": "python",
   "nbconvert_exporter": "python",
   "pygments_lexer": "ipython3",
   "version": "3.6.7"
  },
  "toc": {
   "base_numbering": 1,
   "nav_menu": {},
   "number_sections": false,
   "sideBar": true,
   "skip_h1_title": true,
   "title_cell": "Table of Contents",
   "title_sidebar": "Contents",
   "toc_cell": false,
   "toc_position": {},
   "toc_section_display": true,
   "toc_window_display": false
  }
 },
 "nbformat": 4,
 "nbformat_minor": 2
}
