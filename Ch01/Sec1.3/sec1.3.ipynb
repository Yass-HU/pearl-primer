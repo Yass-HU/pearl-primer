{
 "cells": [
  {
   "cell_type": "markdown",
   "metadata": {},
   "source": [
    "# [*Causal Inference in Statistics: A Primer*](https://www.wiley.com/en-us/Causal+Inference+in+Statistics%3A+A+Primer-p-9781119186847)\n",
    "\n",
    "# Judea Pearl, Madelyn Glymour, Nicholas P. Jewell \n",
    "\n",
    "# Section 1.3: Probability and statistics\n",
    "\n",
    "---\n",
    "\n",
    "![](https://media.wiley.com/product_data/coverImage300/46/11191868/1119186846.jpg)"
   ]
  },
  {
   "cell_type": "code",
   "execution_count": 1,
   "metadata": {},
   "outputs": [],
   "source": [
    "import math\n",
    "import numpy as np\n",
    "import pandas as pd\n",
    "import seaborn as sns\n",
    "import matplotlib as mpl\n",
    "import matplotlib.pyplot as plt\n",
    "plt.style.use('seaborn-darkgrid')"
   ]
  },
  {
   "cell_type": "markdown",
   "metadata": {
    "heading_collapsed": true
   },
   "source": [
    "## Study questions"
   ]
  },
  {
   "cell_type": "markdown",
   "metadata": {
    "heading_collapsed": true,
    "hidden": true
   },
   "source": [
    "### 1.3.2"
   ]
  },
  {
   "cell_type": "markdown",
   "metadata": {
    "hidden": true
   },
   "source": [
    "| Gender | Highest education achieved | Occurrence |\n",
    "|--------|----------------------------|------------|\n",
    "| Male   | Never finished high school |        112 |\n",
    "| Male   | High school                |        231 |\n",
    "| Male   | College                    |        595 |\n",
    "| Male   | Graduate school            |        242 |\n",
    "| Female | Never finished high school |        136 |\n",
    "| Female | High school                |        189 |\n",
    "| Female | College                    |        763 |\n",
    "| Female | Graduate school            |        172 |\n",
    "| TOTAL  | -                          |       2440 |\n",
    "\n",
    "The probabilities are\n",
    "\n",
    "\\begin{align*}\n",
    "  P(\\text{High School}) &= (231 + 189)/2440 = 0.17 \\\\\n",
    "  P(\\text{High School OR Female}) &= (231 + 136 + 189 + 763 + 172)/2440 = 0.61 \\\\\n",
    "  P(\\text{High School | Female}) &= 189/(136 + 189 + 763 + 172) = 0.15 \\\\\n",
    "  P(\\text{Female | High School}) &= 189/(189 + 231) = 0.45\n",
    "\\end{align*}"
   ]
  },
  {
   "cell_type": "markdown",
   "metadata": {
    "heading_collapsed": true
   },
   "source": [
    "## Independence and marginal independence"
   ]
  },
  {
   "cell_type": "markdown",
   "metadata": {
    "hidden": true
   },
   "source": [
    "![](01-independence.jpg)\n",
    "\n",
    "![](02-marginal-independence.jpg)\n",
    "\n",
    "+ Consider the causal chain FIRE $\\to$ SMOKE $\\to$ DETECTOR\n",
    "  ON\n",
    "\n",
    "  SMOKE is a *mediator*. It makes FIRE and DETECTOR ON\n",
    "  conditionally independent, i.e.\n",
    "  \\begin{align*}\n",
    "  P(\\text{DETECTOR ON } | \\text{ FIRE, SMOKE}) &= P(\\text{DETECTOR ON } | \\text{ SMOKE})\n",
    "  \\end{align*}\n",
    "\n",
    "  Is this the *definition* of mediator?"
   ]
  },
  {
   "cell_type": "markdown",
   "metadata": {
    "heading_collapsed": true
   },
   "source": [
    "## The law of total probability and other rules"
   ]
  },
  {
   "cell_type": "markdown",
   "metadata": {
    "hidden": true
   },
   "source": [
    "+ If $A$ and $B$ are mutually exclusive, then \n",
    "\n",
    "  $$P(A \\lor B) = P(A) + P(B)$$\n",
    "\n",
    "+ It follows that\n",
    "\n",
    "  $$P(A) = P(A \\land B) + P(A \\land \\neg B)$$\n",
    "\n",
    "+ More generally, if $B_1, B_2, \\ldots, B_n$ is a partition,\n",
    "  then\n",
    "\n",
    "  $$P(A) = P(A \\land B_1) + P(A \\land B_2) + \\cdots + P(A\n",
    "  \\land B_n)$$\n",
    "\n",
    "+ Multiplication rule (1.7):\n",
    "\n",
    "  $$P(A \\land B) = P(A|B)P(B) = P(B|A)P(A)$$\n",
    "\n",
    "+ Division rule:\n",
    "\n",
    "  $$P(A|B) = \\frac{P(A \\land B)}{P(B)}$$\n",
    "\n",
    "  This is equivalent to viewing conditioning as a *filtering*\n",
    "  operation. Taking probabilities as frequencies, we are\n",
    "  taking as the denominator the number of instances where\n",
    "  $B$ is true (instead of the total number of instances).\n",
    "\n",
    "+ Characterizing independence: $A$ and $B$ are independent iff\n",
    "\n",
    "  $$P(A \\land B) = P(A)P(B)$$\n",
    "\n",
    "+ Bayes' rule:\n",
    "\n",
    "  $$P(A | B) = \\frac{P(B|A)P(A)}{P(B)}$$\n",
    "\n",
    "+ Decomposing: \"law of alternatives\", or \"extending the\n",
    "  conversation\". In the book, *conditionalizing on $B$*:\n",
    "\n",
    "  $$P(A) = P(A|B_1)P(B_1) + P(A|B_2)P(B_2) + \\cdots + P(A|B_n)P(B_n)$$\n",
    "\n",
    "  for $B_1, B_2, \\ldots, B_n$ a partition.\n",
    "\n",
    "+ See examples: defective gadgets and rolling 2 dice.\n",
    "\n",
    "  For the example of rolling 2 dice, the 2 rolls are\n",
    "  independent, so we can just multiply the probabilities:\n",
    "\n",
    "  ![](03-roll-2-dice.jpg)\n",
    "  "
   ]
  },
  {
   "cell_type": "markdown",
   "metadata": {
    "heading_collapsed": true
   },
   "source": [
    "## Using Bayes' rule"
   ]
  },
  {
   "cell_type": "markdown",
   "metadata": {
    "hidden": true
   },
   "source": [
    "+ Hypothesis and evidence:\n",
    "\n",
    "  ![](04-bayes.jpg)"
   ]
  },
  {
   "cell_type": "markdown",
   "metadata": {},
   "source": [
    "## Study questions"
   ]
  },
  {
   "cell_type": "markdown",
   "metadata": {
    "heading_collapsed": true
   },
   "source": [
    "### 1.3.3 (a)"
   ]
  },
  {
   "cell_type": "markdown",
   "metadata": {
    "hidden": true
   },
   "source": [
    "  ![](05-study-1.3.3.a.jpg) \n",
    "\n",
    "  ![](06-study-1.3.3.a-cont.jpg)"
   ]
  },
  {
   "cell_type": "markdown",
   "metadata": {
    "heading_collapsed": true
   },
   "source": [
    "### 1.3.3 (b)"
   ]
  },
  {
   "cell_type": "markdown",
   "metadata": {
    "hidden": true
   },
   "source": [
    "  ![](07-study-1.3.3.b.jpg)"
   ]
  },
  {
   "cell_type": "markdown",
   "metadata": {
    "heading_collapsed": true
   },
   "source": [
    "### 1.3.4 (a)"
   ]
  },
  {
   "cell_type": "markdown",
   "metadata": {
    "hidden": true
   },
   "source": [
    "  - 3 cards.\n",
    "\n",
    "  - Card 1: 2 black faces.\n",
    "\n",
    "  - Card 2: 2 white faces.\n",
    "\n",
    "  - Card 3: 1 white face, 1 black face.\n",
    "\n",
    "  - Select card at random, top face is black.\n",
    "\n",
    "  - It is either card 1 or card 3.\n",
    "\n",
    "  - So, bottom face has probability 1/2 of being black.\n",
    "\n",
    "  - **But, then again**, if the top face is black, there is a\n",
    "    greater probability that it is card 1, and therefore,\n",
    "    there might be a greater probability that the other face\n",
    "    is also black.\n",
    "\n",
    "  - Hmmmm."
   ]
  },
  {
   "cell_type": "markdown",
   "metadata": {
    "heading_collapsed": true
   },
   "source": [
    "### 1.3.4 (b, c)"
   ]
  },
  {
   "cell_type": "markdown",
   "metadata": {
    "hidden": true
   },
   "source": [
    "  - Using Bayes, calculate probability that face-down side\n",
    "    is black, given that the face-up side is black:\n",
    "\n",
    "    $$\n",
    "    P(C_D = \\text{b} \\mid C_U = \\text{b}) = \n",
    "    \\frac\n",
    "    {P(C_U = \\text{b} \\mid C_D = \\text{b})\\;P(C_D =\n",
    "    \\text{b})}\n",
    "    {P(C_U = \\text{b})}\n",
    "    $$\n",
    "      \n",
    "    ![](08-study-1.3.4.b.c.jpg)\n",
    "\n",
    "  - Ha! The following table shows that the answer really is\n",
    "    $\\frac{2}{3}$:\n",
    "\n",
    "    ![](09-study-1.3.4.b.c-cont.jpg) \n",
    "\n",
    "    This was a great example of how intuition may mislead\n",
    "    us! The answer is as surprising as in the Monty Hall\n",
    "    problem."
   ]
  },
  {
   "cell_type": "markdown",
   "metadata": {
    "heading_collapsed": true
   },
   "source": [
    "### 1.3.5"
   ]
  },
  {
   "cell_type": "markdown",
   "metadata": {
    "hidden": true
   },
   "source": [
    "  ![](10-study-1.3.5.jpg) \n",
    "\n",
    "  ![](11-study-1.3.5-cont.jpg)"
   ]
  },
  {
   "cell_type": "markdown",
   "metadata": {
    "heading_collapsed": true
   },
   "source": [
    "## Expected values"
   ]
  },
  {
   "cell_type": "markdown",
   "metadata": {
    "hidden": true
   },
   "source": [
    "+ Expected value of *numerical* random variable $X$ is \n",
    "  $$E(X) = \\sum_x x \\cdot P(X=x)$$\n",
    "\n",
    "+ Expected value of *numerical* function $g(x)$ of\n",
    "  *numerical* random variable $X$ is \n",
    "  $$E[g(X)] = \\sum_x g(x) \\cdot P(X=x)$$\n",
    "\n",
    "+ Expected value of $Y$ conditioned on $X$:\n",
    "  $$\n",
    "  E(Y \\mid X = x) = \\sum_y y \\cdot P(Y=y \\mid X=x)\n",
    "  $$\n",
    "\n",
    "+ Expected value $g = E(X)$ minimizes expected square error\n",
    "  $E\\left[(g - X)^2\\right]$.\n",
    "\n",
    "+ Similarly, $g = E(Y \\mid X=x)$ minimizes $E[(g - Y)^2 \\mid\n",
    "  X=x]$.\n",
    "\n",
    "+ The *median* minimizes expected absolute error $E[|g-X|]$."
   ]
  },
  {
   "cell_type": "markdown",
   "metadata": {
    "heading_collapsed": true
   },
   "source": [
    "## Variance and covariance"
   ]
  },
  {
   "cell_type": "markdown",
   "metadata": {
    "hidden": true
   },
   "source": [
    "+ Given *numerical* random variable $X$ with mean $\\mu = E[X]$, then\n",
    "  $\\text{Var}(X) = \\sigma^2 = E[(X - \\mu)^2] = E[X^2] - E[X]^2$.\n",
    "\n",
    "+ Standard deviation is $\\sigma = \\sqrt{\\sigma^2}$.\n",
    "\n",
    "+ Given two random variables $X$ and $Y$, the *covariance*\n",
    "  is\n",
    "  $$\n",
    "  \\sigma_{XY} = E[(X - E(X))\\cdot(Y - E(Y))]\n",
    "  $$\n",
    "  This measures how much $X$ and $Y$ *linearly* covary.\n",
    "  \n",
    "+ This can also be written\n",
    "    $$\n",
    "    \\sigma_{XY} = E[XY] - E[X]E[Y]\n",
    "    $$\n",
    "\n",
    "+ From Deveaux, some properties of the covariance:\n",
    "\n",
    "    ![](26-covariance.png)\n",
    "\n",
    "+ The *correlation coefficient* is a normalization of the\n",
    "  above wrt the product of stardard deviations:\n",
    "  $$\n",
    "  \\rho_{XY} = \\frac{\\sigma_{XY}}{\\sigma_X \\sigma_Y}\n",
    "  $$\n",
    "\n",
    "+ $\\rho_{XY} \\in [-1, 1]$.\n",
    "\n",
    "+ When $X$ and $Y$ are independent, $\\rho_{XY} = 0$."
   ]
  },
  {
   "cell_type": "markdown",
   "metadata": {
    "heading_collapsed": true
   },
   "source": [
    "## Study questions"
   ]
  },
  {
   "cell_type": "markdown",
   "metadata": {
    "heading_collapsed": true,
    "hidden": true
   },
   "source": [
    "### 1.3.6 (a)"
   ]
  },
  {
   "cell_type": "markdown",
   "metadata": {
    "hidden": true
   },
   "source": [
    "![](12-study-1.3.6.jpg)\n",
    "\n",
    "![](13-study-1.3.6-cont.jpg)"
   ]
  },
  {
   "cell_type": "markdown",
   "metadata": {
    "heading_collapsed": true,
    "hidden": true
   },
   "source": [
    "### 1.3.6 (b)"
   ]
  },
  {
   "cell_type": "markdown",
   "metadata": {
    "hidden": true
   },
   "source": [
    "See solution manual"
   ]
  },
  {
   "cell_type": "markdown",
   "metadata": {
    "heading_collapsed": true,
    "hidden": true
   },
   "source": [
    "### 1.3.7"
   ]
  },
  {
   "cell_type": "markdown",
   "metadata": {
    "hidden": true
   },
   "source": [
    "![](14-study-1.3.7.jpg)\n",
    "\n",
    "![](15-study-1.3.7-cont.jpg)"
   ]
  },
  {
   "cell_type": "markdown",
   "metadata": {
    "heading_collapsed": true,
    "hidden": true
   },
   "source": [
    "### 1.3.8 (a)"
   ]
  },
  {
   "cell_type": "markdown",
   "metadata": {
    "hidden": true
   },
   "source": [
    "$E(X) = 3.5$\n",
    "\n",
    "$E(Y) = E(X) + E(Z) = 7$"
   ]
  },
  {
   "cell_type": "markdown",
   "metadata": {
    "heading_collapsed": true,
    "hidden": true
   },
   "source": [
    "#### Pandas implementation of craps"
   ]
  },
  {
   "cell_type": "code",
   "execution_count": 2,
   "metadata": {
    "hidden": true
   },
   "outputs": [],
   "source": [
    "def craps_df(): \n",
    "    d = {\n",
    "        'X': np.array([[d1] * 6 for d1 in range(1,7)]).flatten(),\n",
    "        'Z': list(range(1, 7)) * 6\n",
    "    }\n",
    "    craps = pd.DataFrame(d)\n",
    "    craps['Y'] = craps['X'] + craps['Z']\n",
    "    return craps"
   ]
  },
  {
   "cell_type": "code",
   "execution_count": 3,
   "metadata": {
    "hidden": true
   },
   "outputs": [],
   "source": [
    "craps = craps_df()"
   ]
  },
  {
   "cell_type": "markdown",
   "metadata": {
    "heading_collapsed": true,
    "hidden": true
   },
   "source": [
    "#### $E[Y \\mid X = x]$"
   ]
  },
  {
   "cell_type": "markdown",
   "metadata": {
    "hidden": true
   },
   "source": [
    "For $X=1$ and $Y=X+1$, we have"
   ]
  },
  {
   "cell_type": "code",
   "execution_count": 4,
   "metadata": {
    "hidden": true
   },
   "outputs": [
    {
     "name": "stdout",
     "output_type": "stream",
     "text": [
      "P(X=1) = 6/36 = 0.16666666666666666\n",
      "P(Y=2 AND X=1) = 1/36 = 0.027777777777777776\n"
     ]
    }
   ],
   "source": [
    "X = 1\n",
    "# Get only results where X == x\n",
    "temp = craps[craps['X'] == X]\n",
    "\n",
    "# P(X = x)\n",
    "px1 = len(temp)/len(craps)\n",
    "print(f'P(X={X}) = {len(temp)}/{len(craps)} = {px1}')\n",
    "\n",
    "# P(X = x & Y = x + 1)\n",
    "px1y1 = len(temp[(temp['X'] == X) & (temp['Z'] == X + 1)])/len(craps)\n",
    "print(f'P(Y={X+1} AND X={X}) = {len(temp[(temp[\"X\"] == X) & (temp[\"Z\"] == X + 1)])}/{len(craps)} = {px1y1}')"
   ]
  },
  {
   "cell_type": "markdown",
   "metadata": {
    "hidden": true
   },
   "source": [
    "Now, to compute $E[Y \\mid X = x]$ for general $x$, we do\n",
    "\\begin{align*}\n",
    "E[Y \\mid X = x] \n",
    "    &= (x + 1) \\cdot \\frac{1}{6} + \\cdots + (x + 6) \\cdot \\frac{1}{6} \\\\\n",
    "    &= \\frac{1}{6}(6x + 21) \\\\\n",
    "    &= x + \\frac{7}{2} \\\\\n",
    "    &= x + 3.5\n",
    "\\end{align*}\n",
    "\n",
    "So, according to this calculation, we have"
   ]
  },
  {
   "cell_type": "code",
   "execution_count": 5,
   "metadata": {
    "hidden": true
   },
   "outputs": [
    {
     "name": "stdout",
     "output_type": "stream",
     "text": [
      "x\t E[Y | X = x]\n",
      "1\t 4.5\n",
      "2\t 5.5\n",
      "3\t 6.5\n",
      "4\t 7.5\n",
      "5\t 8.5\n",
      "6\t 9.5\n"
     ]
    }
   ],
   "source": [
    "print('x\\t E[Y | X = x]')\n",
    "for x in range(1, 7):\n",
    "    print(f\"{x}\\t {x+7/2}\")"
   ]
  },
  {
   "cell_type": "markdown",
   "metadata": {
    "hidden": true
   },
   "source": [
    "Checking with Pandas:"
   ]
  },
  {
   "cell_type": "code",
   "execution_count": 6,
   "metadata": {
    "hidden": true
   },
   "outputs": [
    {
     "name": "stdout",
     "output_type": "stream",
     "text": [
      "x\t E[Y | X = x]\n",
      "1\t 4.5\n",
      "2\t 5.5\n",
      "3\t 6.5\n",
      "4\t 7.5\n",
      "5\t 8.5\n",
      "6\t 9.5\n"
     ]
    }
   ],
   "source": [
    "print('x\\t E[Y | X = x]')\n",
    "for x in range(1, 7):\n",
    "    temp = craps[craps['X'] == x]\n",
    "    e = temp['Y'].mean()\n",
    "    print(f\"{x}\\t {e}\")"
   ]
  },
  {
   "cell_type": "markdown",
   "metadata": {
    "hidden": true
   },
   "source": [
    "So, for each value $x$ of $X$, we have $E[Y \\mid X = x] = x + 3.5$"
   ]
  },
  {
   "cell_type": "markdown",
   "metadata": {
    "heading_collapsed": true,
    "hidden": true
   },
   "source": [
    "#### $E[X \\mid Y = y]$\n",
    "\n",
    "![](16-study-1.3.8.jpg)"
   ]
  },
  {
   "cell_type": "markdown",
   "metadata": {
    "hidden": true
   },
   "source": [
    "Checking with Pandas:"
   ]
  },
  {
   "cell_type": "code",
   "execution_count": 7,
   "metadata": {
    "hidden": true
   },
   "outputs": [
    {
     "name": "stdout",
     "output_type": "stream",
     "text": [
      "n\t E[X | Y = n]\n",
      "2\t 1.0\n",
      "3\t 1.5\n",
      "4\t 2.0\n",
      "5\t 2.5\n",
      "6\t 3.0\n",
      "7\t 3.5\n",
      "8\t 4.0\n",
      "9\t 4.5\n",
      "10\t 5.0\n",
      "11\t 5.5\n",
      "12\t 6.0\n"
     ]
    }
   ],
   "source": [
    "craps = craps_df()\n",
    "print(f\"n\\t E[X | Y = n]\")\n",
    "for n in range(2, 13):\n",
    "    temp = craps[craps.Y == n]\n",
    "    print(f\"{n}\\t {temp.X.mean()}\")"
   ]
  },
  {
   "cell_type": "markdown",
   "metadata": {
    "hidden": true
   },
   "source": [
    "So, for each value $y$ of $Y$, we have $E[X \\mid Y = y] = y/2$"
   ]
  },
  {
   "cell_type": "markdown",
   "metadata": {
    "heading_collapsed": true,
    "hidden": true
   },
   "source": [
    "#### $\\text{Var}(X)$\n",
    "\n",
    "Remember $\\text{Var}(X) \\quad=\\quad E[(X - E(X))^2] \\quad=\\quad E[X^2] - E(X)^2$. \n",
    "\n",
    "The derivation is\n",
    "\n",
    "![](17-study-1.3.8-cont.jpg)"
   ]
  },
  {
   "cell_type": "markdown",
   "metadata": {
    "hidden": true
   },
   "source": [
    "So we have\n",
    "\\begin{align*}\n",
    "    \\text{Var}(X) \n",
    "        &= E[X^2] - E[X]^2 \\\\\n",
    "        &= \\frac{1}{6} (1^2 + 2^2 + \\cdots + 6^2) - 3.5^2 \\\\\n",
    "        &= \\frac{1}{6} \\cdot 91 - 3.5^2 \\\\\n",
    "        &= 2.92\n",
    "\\end{align*}\n",
    "which checks:"
   ]
  },
  {
   "cell_type": "code",
   "execution_count": 8,
   "metadata": {
    "hidden": true
   },
   "outputs": [
    {
     "name": "stdout",
     "output_type": "stream",
     "text": [
      "Var(X) = 2.92\n"
     ]
    }
   ],
   "source": [
    "craps = craps_df()\n",
    "print(f\"Var(X) = {craps.X.var(ddof=0):.3}\")"
   ]
  },
  {
   "cell_type": "markdown",
   "metadata": {
    "heading_collapsed": true,
    "hidden": true
   },
   "source": [
    "#### $\\text{Var}(Y)$"
   ]
  },
  {
   "cell_type": "markdown",
   "metadata": {
    "hidden": true
   },
   "source": [
    "+ $\\text{Var}(Y) = E[Y^2] - E[Y]^2$\n",
    "\n",
    "+ Let's calculate $E[Y]$ first:\n",
    "  $$\n",
    "  \\begin{align*}\n",
    "      E[Y] \\quad=\\quad 1/36 \\quad\\cdot\\quad (\n",
    "          & 2 + 3 + 4 + 5 + 6 + 7 + {}\\\\\n",
    "          & \\phantom{2 + {}} 3 + 4 + 5 + 6 + 7 + 8 + {}\\\\\n",
    "          & \\phantom{2 + 3 + {}} 4 + 5 + 6 + 7 + 8 + 9 + {}\\\\\n",
    "          & \\phantom{2 + 3 + 4 + {}} 5 + 6 + 7 + 8 + 9 + 10 + {}\\\\\n",
    "          & \\phantom{2 + 3 + 4 + 5 + {}} 6 + 7 + 8 + 9 + 10 + 11 + {}\\\\\n",
    "          & \\phantom{2 + 3 + 4 + 5 + 6 + {}} 7 + 8 + 9 + 10 + 11 + 12)\n",
    "  \\end{align*}\n",
    "  $$\n",
    "  \n",
    "  But that sum is just `craps.Y.sum()`, which equals {{craps.Y.sum()}}, so \n",
    "  $$\n",
    "  E[Y] = \\frac{252}{36} = 7.0\n",
    "  $$\n",
    "  \n",
    "  But that should have been obvious, because \n",
    "  $$\n",
    "  E[Y] = E[X + Z] = E[X] + E[Z]\n",
    "  $$\n",
    "  \n",
    "  Plus, I already had this result from [above](#1.3.8-(a)).\n",
    "  \n",
    "+ Let's calculate $E[Y^2]$ now:\n",
    "  $$\n",
    "  E[Y^2] \\quad=\\quad \\sum_y y^2 P(y) \\quad=\\quad \\frac{1}{36}(2^2 + 2\\cdot 3^2 + 3\\cdot 4^2 + \\cdots + 2\\cdot 11^2 + 12^2)\n",
    "  $$\n",
    "  Let's compute this in Python, using the `craps` dataframe: "
   ]
  },
  {
   "cell_type": "code",
   "execution_count": 9,
   "metadata": {
    "hidden": true
   },
   "outputs": [
    {
     "name": "stdout",
     "output_type": "stream",
     "text": [
      "E[Y^2] =  54.8\n"
     ]
    }
   ],
   "source": [
    "y_squared = craps.Y**2\n",
    "print(f\"E[Y^2] = {y_squared.sum() / 36 : .3}\")"
   ]
  },
  {
   "cell_type": "markdown",
   "metadata": {
    "hidden": true
   },
   "source": [
    "+ So $\\text{Var}(Y) = E[Y^2] - E[Y]^2 = 54.8 - 49 = 5.8$.\n",
    "\n",
    "+ Let's check it:"
   ]
  },
  {
   "cell_type": "code",
   "execution_count": 10,
   "metadata": {
    "hidden": true
   },
   "outputs": [
    {
     "name": "stdout",
     "output_type": "stream",
     "text": [
      "Var(Y) =  5.8\n"
     ]
    }
   ],
   "source": [
    "print(f\"Var(Y) = {craps.Y.var(ddof=0) : .2}\")"
   ]
  },
  {
   "cell_type": "markdown",
   "metadata": {
    "heading_collapsed": true,
    "hidden": true
   },
   "source": [
    "#### $\\text{Cov}(X, Y) = \\sigma_{XY}$"
   ]
  },
  {
   "cell_type": "markdown",
   "metadata": {
    "hidden": true
   },
   "source": [
    "+ Remember $\\sigma_{XY} = E[(X - E[X])(Y - E[Y])]$\n",
    "\n",
    "+ But this is equivalent to $\\sigma_{XY} = E[XY] - E[X]E[Y]$\n",
    "\n",
    "+ Well, $E[X]E[Y] = 3.5 \\cdot 7 = 24.5$\n",
    "\n",
    "+ Let's compute $E[XY]$ in Python:"
   ]
  },
  {
   "cell_type": "code",
   "execution_count": 11,
   "metadata": {
    "hidden": true
   },
   "outputs": [
    {
     "name": "stdout",
     "output_type": "stream",
     "text": [
      "E[XY] =  27.4\n"
     ]
    }
   ],
   "source": [
    "xy = craps.X * craps.Y\n",
    "print(f\"E[XY] = {xy.sum() / 36 : .3}\")"
   ]
  },
  {
   "cell_type": "markdown",
   "metadata": {
    "hidden": true
   },
   "source": [
    "+ So $\\sigma_{XY} = 27.4 - 24.5 = 2.9$.\n",
    "\n",
    "+ Let's check it in Pandas, but remember that the `cov()` method normalizes by $N - 1$, which gives a different value from ours. So we also present the value normalized by $N$."
   ]
  },
  {
   "cell_type": "code",
   "execution_count": 12,
   "metadata": {
    "hidden": true
   },
   "outputs": [
    {
     "name": "stdout",
     "output_type": "stream",
     "text": [
      "Cov(X, Y) =  3.0 (normalized by N-1)\n",
      "Cov(X, Y) =  2.9 (normalized by N)\n"
     ]
    }
   ],
   "source": [
    "cov = craps.X.cov(craps.Y)\n",
    "print(f\"Cov(X, Y) = {cov : .2} (normalized by N-1)\")\n",
    "print(f\"Cov(X, Y) = {cov * (len(craps) - 1) / len(craps) : .2} (normalized by N)\")"
   ]
  },
  {
   "cell_type": "markdown",
   "metadata": {
    "heading_collapsed": true,
    "hidden": true
   },
   "source": [
    "#### $\\rho_{XY}$"
   ]
  },
  {
   "cell_type": "markdown",
   "metadata": {
    "hidden": true
   },
   "source": [
    "$$\n",
    "\\rho_{XY} = \\frac{\\sigma_{XY}}{\\sigma_X \\sigma_Y} = \\frac{2.9}{\\sqrt{2.92} \\sqrt{5.8}}\n",
    "$$"
   ]
  },
  {
   "cell_type": "code",
   "execution_count": 13,
   "metadata": {
    "hidden": true
   },
   "outputs": [
    {
     "name": "stdout",
     "output_type": "stream",
     "text": [
      "𝜌_𝑋𝑌 =  0.705\n"
     ]
    }
   ],
   "source": [
    "print(f\"𝜌_𝑋𝑌 = {2.9/(math.sqrt(2.92) * math.sqrt(5.8)): .3}\")"
   ]
  },
  {
   "cell_type": "markdown",
   "metadata": {
    "heading_collapsed": true,
    "hidden": true
   },
   "source": [
    "### 1.3.8 (b)"
   ]
  },
  {
   "cell_type": "markdown",
   "metadata": {
    "hidden": true
   },
   "source": [
    "Results of 12 rolls of two fair dice:"
   ]
  },
  {
   "cell_type": "code",
   "execution_count": 14,
   "metadata": {
    "hidden": true
   },
   "outputs": [
    {
     "data": {
      "text/html": [
       "<div>\n",
       "<style scoped>\n",
       "    .dataframe tbody tr th:only-of-type {\n",
       "        vertical-align: middle;\n",
       "    }\n",
       "\n",
       "    .dataframe tbody tr th {\n",
       "        vertical-align: top;\n",
       "    }\n",
       "\n",
       "    .dataframe thead th {\n",
       "        text-align: right;\n",
       "    }\n",
       "</style>\n",
       "<table border=\"1\" class=\"dataframe\">\n",
       "  <thead>\n",
       "    <tr style=\"text-align: right;\">\n",
       "      <th></th>\n",
       "      <th>X</th>\n",
       "      <th>Z</th>\n",
       "      <th>Y</th>\n",
       "    </tr>\n",
       "  </thead>\n",
       "  <tbody>\n",
       "    <tr>\n",
       "      <th>0</th>\n",
       "      <td>6</td>\n",
       "      <td>3</td>\n",
       "      <td>9</td>\n",
       "    </tr>\n",
       "    <tr>\n",
       "      <th>1</th>\n",
       "      <td>3</td>\n",
       "      <td>4</td>\n",
       "      <td>7</td>\n",
       "    </tr>\n",
       "    <tr>\n",
       "      <th>2</th>\n",
       "      <td>4</td>\n",
       "      <td>6</td>\n",
       "      <td>10</td>\n",
       "    </tr>\n",
       "    <tr>\n",
       "      <th>3</th>\n",
       "      <td>6</td>\n",
       "      <td>2</td>\n",
       "      <td>8</td>\n",
       "    </tr>\n",
       "    <tr>\n",
       "      <th>4</th>\n",
       "      <td>6</td>\n",
       "      <td>4</td>\n",
       "      <td>10</td>\n",
       "    </tr>\n",
       "    <tr>\n",
       "      <th>5</th>\n",
       "      <td>5</td>\n",
       "      <td>3</td>\n",
       "      <td>8</td>\n",
       "    </tr>\n",
       "    <tr>\n",
       "      <th>6</th>\n",
       "      <td>1</td>\n",
       "      <td>5</td>\n",
       "      <td>6</td>\n",
       "    </tr>\n",
       "    <tr>\n",
       "      <th>7</th>\n",
       "      <td>3</td>\n",
       "      <td>5</td>\n",
       "      <td>8</td>\n",
       "    </tr>\n",
       "    <tr>\n",
       "      <th>8</th>\n",
       "      <td>6</td>\n",
       "      <td>5</td>\n",
       "      <td>11</td>\n",
       "    </tr>\n",
       "    <tr>\n",
       "      <th>9</th>\n",
       "      <td>3</td>\n",
       "      <td>5</td>\n",
       "      <td>8</td>\n",
       "    </tr>\n",
       "    <tr>\n",
       "      <th>10</th>\n",
       "      <td>5</td>\n",
       "      <td>3</td>\n",
       "      <td>8</td>\n",
       "    </tr>\n",
       "    <tr>\n",
       "      <th>11</th>\n",
       "      <td>4</td>\n",
       "      <td>5</td>\n",
       "      <td>9</td>\n",
       "    </tr>\n",
       "  </tbody>\n",
       "</table>\n",
       "</div>"
      ],
      "text/plain": [
       "    X  Z   Y\n",
       "0   6  3   9\n",
       "1   3  4   7\n",
       "2   4  6  10\n",
       "3   6  2   8\n",
       "4   6  4  10\n",
       "5   5  3   8\n",
       "6   1  5   6\n",
       "7   3  5   8\n",
       "8   6  5  11\n",
       "9   3  5   8\n",
       "10  5  3   8\n",
       "11  4  5   9"
      ]
     },
     "execution_count": 14,
     "metadata": {},
     "output_type": "execute_result"
    }
   ],
   "source": [
    "# Results taken from the book\n",
    "x = [6, 3, 4, 6, 6, 5, 1, 3, 6, 3, 5, 4]\n",
    "z = [3, 4, 6, 2, 4, 3, 5, 5, 5, 5, 3, 5]\n",
    "d = {\n",
    "    'X': x,\n",
    "    'Z': z\n",
    "}\n",
    "craps2 = pd.DataFrame(d)\n",
    "craps2['Y'] = craps2['X'] + craps2['Z']\n",
    "\n",
    "craps2"
   ]
  },
  {
   "cell_type": "code",
   "execution_count": 15,
   "metadata": {
    "hidden": true
   },
   "outputs": [
    {
     "name": "stdout",
     "output_type": "stream",
     "text": [
      "EXPECTED VALUES\n",
      "===============\n",
      "E[X] =  4.33\n",
      "E[Z] =  4.17\n",
      "E[Y] =  8.5\n",
      "\n",
      "VARIANCES (N)\n",
      "=============\n",
      "Var[X] =  2.389\n",
      "Var[Z] =  1.306\n",
      "Var[Y] =  1.75\n",
      "\n",
      "VARIANCES (N-1)\n",
      "===============\n",
      "Var[X] =  2.606\n",
      "Var[Z] =  1.424\n",
      "Var[Y] =  1.909\n",
      "\n",
      "COVARIANCE (N)\n",
      "==============\n",
      "Cov(X, Y) =  1.417\n",
      "\n",
      "COVARIANCE (N-1)\n",
      "================\n",
      "Cov(X, Y) =  1.545\n",
      "\n",
      "CORRELATION (N)\n",
      "===============\n",
      "Corr(X, Y) =  0.693\n",
      "\n",
      "CORRELATION (N-1)\n",
      "=================\n",
      "Corr(X, Y) =  0.756\n",
      "\n",
      "CORRELATION (Pandas)\n",
      "====================\n",
      "          X         Z         Y\n",
      "X  1.000000 -0.550516  0.692868\n",
      "Z -0.550516  1.000000  0.220527\n",
      "Y  0.692868  0.220527  1.000000\n"
     ]
    }
   ],
   "source": [
    "print(\"EXPECTED VALUES\")\n",
    "print(\"===============\")\n",
    "print(f\"E[X] = {craps2.X.mean() : .3}\")\n",
    "print(f\"E[Z] = {craps2.Z.mean() : .3}\")\n",
    "print(f\"E[Y] = {craps2.Y.mean() : .3}\")\n",
    "\n",
    "print()\n",
    "print(\"VARIANCES (N)\")\n",
    "print(\"=============\")\n",
    "print(f\"Var[X] = {craps2.X.var(ddof=0) : .4}\")\n",
    "print(f\"Var[Z] = {craps2.Z.var(ddof=0) : .4}\")\n",
    "print(f\"Var[Y] = {craps2.Y.var(ddof=0) : .4}\")\n",
    "\n",
    "print()\n",
    "print(\"VARIANCES (N-1)\")\n",
    "print(\"===============\")\n",
    "print(f\"Var[X] = {craps2.X.var() : .4}\")\n",
    "print(f\"Var[Z] = {craps2.Z.var() : .4}\")\n",
    "print(f\"Var[Y] = {craps2.Y.var() : .4}\")\n",
    "\n",
    "# print()\n",
    "# print(\"CONDITIONAL EXPECTED VALUES\")\n",
    "# print(\"===========================\")\n",
    "# for i in range(1, 7):\n",
    "#     temp = craps2[craps2.X == i]\n",
    "#     print(f\"E[Y | X={i}] = {temp.Y.mean() : .2}\")\n",
    "#     \n",
    "# print()\n",
    "# \n",
    "# for i in range(2, 13):\n",
    "#     temp = craps2[craps2.Y == i]\n",
    "#     print(f\"E[X | Y={i}] = {temp.X.mean() : .2}\")\n",
    "    \n",
    "print()\n",
    "print(\"COVARIANCE (N)\")\n",
    "print(\"==============\")\n",
    "covn = craps2.X.cov(craps2.Y) * (len(craps2) - 1) / len(craps2)\n",
    "print(f\"Cov(X, Y) = {covn : .4}\")\n",
    "\n",
    "print()\n",
    "print(\"COVARIANCE (N-1)\")\n",
    "print(\"================\")\n",
    "cov = craps2.X.cov(craps2.Y)\n",
    "print(f\"Cov(X, Y) = {cov : .4}\")\n",
    "\n",
    "print()\n",
    "stdx = math.sqrt(craps2.X.var(ddof=0))\n",
    "stdy = math.sqrt(craps2.Y.var(ddof=0))\n",
    "print(\"CORRELATION (N)\")\n",
    "print(\"===============\")\n",
    "rhon = covn / (stdx * stdy)\n",
    "print(f\"Corr(X, Y) = {rhon : .3}\")\n",
    "\n",
    "print()\n",
    "print(\"CORRELATION (N-1)\")\n",
    "print(\"=================\")\n",
    "rho = cov / (stdx * stdy)\n",
    "print(f\"Corr(X, Y) = {rho : .3}\")\n",
    "\n",
    "print()\n",
    "print(\"CORRELATION (Pandas)\")\n",
    "print(\"====================\")\n",
    "print(craps2.corr())"
   ]
  },
  {
   "cell_type": "markdown",
   "metadata": {
    "hidden": true
   },
   "source": [
    "Well, the book has some different results:\n",
    "\n",
    "![](18-study-1.3.8-cont.png)"
   ]
  },
  {
   "cell_type": "markdown",
   "metadata": {
    "hidden": true
   },
   "source": [
    "The differences are\n",
    "\n",
    "+ For the variances, the book normalizes by $N$, even though this is a sample, not a population.\n",
    "\n",
    "+ In Pandas, the choice between $N$ and $N-1$ can be made via the `ddof` optional argument (default is $N - 1$).\n",
    "\n",
    "+ For the covariances, the book normalizes by $N - 1$.\n",
    "\n",
    "+ In Pandas, normalization is by $N - 1$ only. \n",
    "\n",
    "+ For the correlation coefficient (Pearson), the book again normalizes by $N - 1$.\n",
    "\n",
    "+ In Pandas, normalization is by $N$."
   ]
  },
  {
   "cell_type": "markdown",
   "metadata": {
    "heading_collapsed": true,
    "hidden": true
   },
   "source": [
    "### 1.3.8 (c, d)"
   ]
  },
  {
   "cell_type": "markdown",
   "metadata": {
    "hidden": true
   },
   "source": [
    "+ $E[Y \\mid X = 3] = 6.5$ (from [above](#$E[Y-\\mid-X-=-x]$))\n",
    "\n",
    "+ $E[X \\mid Y = 4] = 2.0$ (from [above](#$E[X-\\mid-Y-=-y]$))"
   ]
  },
  {
   "cell_type": "markdown",
   "metadata": {
    "heading_collapsed": true,
    "hidden": true
   },
   "source": [
    "### 1.3.8 (e)"
   ]
  },
  {
   "cell_type": "markdown",
   "metadata": {
    "hidden": true
   },
   "source": [
    "+ $E[X \\mid Y = 4 \\land Z = 1] = 3$"
   ]
  },
  {
   "cell_type": "markdown",
   "metadata": {
    "heading_collapsed": true
   },
   "source": [
    "## Regression"
   ]
  },
  {
   "cell_type": "markdown",
   "metadata": {
    "hidden": true
   },
   "source": [
    "+ If we know the distribution, then the best prediction of $Y$ given $X=x$ is \n",
    "    $$\n",
    "    E[Y \\mid X=x]\n",
    "    $$\n",
    "    \n",
    "+ Usually, we do *not* have the distribution, so we do regression using the data directly.\n",
    "\n",
    "+ The data are\n",
    "    $$\n",
    "    (x_1, y_1), \\ldots, (x_n, y_n)\n",
    "    $$\n",
    "\n",
    "+ Least squares regression line is\n",
    "    $$\n",
    "    y' = \\alpha + \\beta x\n",
    "    $$\n",
    "    such that it minimizes the sum of squared residuals:\n",
    "    $$\n",
    "    \\sum_i (y_i - y'_i)^2\n",
    "    $$\n",
    "\n",
    "+ $\\beta$ is the slope of the line.\n",
    "\n",
    "+ $\\alpha$ is the intercept."
   ]
  },
  {
   "cell_type": "markdown",
   "metadata": {
    "heading_collapsed": true,
    "hidden": true
   },
   "source": [
    "### Orthogonality"
   ]
  },
  {
   "cell_type": "markdown",
   "metadata": {
    "hidden": true
   },
   "source": [
    "The book derives formulae for $\\alpha$ and $\\beta$ using the *orthogonality principle*:\n",
    "\n",
    "![](19-orthogonality.jpg)\n",
    "\n",
    "**BUT**\n",
    "\n",
    "![](20-deveaux-slope.jpg)"
   ]
  },
  {
   "cell_type": "markdown",
   "metadata": {
    "heading_collapsed": true,
    "hidden": true
   },
   "source": [
    "### Stuck :-("
   ]
  },
  {
   "cell_type": "markdown",
   "metadata": {
    "hidden": true
   },
   "source": [
    "I really cannot make sense of this derivation using the orthogonality principle.\n",
    "\n",
    "Something is wrong, and I don't know what it is. Do you, Mr. Jones?\n",
    "\n",
    "Later, I will derive formulae for the coefficients using Matrix Calculus and gradients instead.\n",
    "\n",
    "See http://explained.ai/matrix-calculus/index.html.\n",
    "\n",
    "Now move on."
   ]
  },
  {
   "cell_type": "markdown",
   "metadata": {
    "heading_collapsed": true,
    "hidden": true
   },
   "source": [
    "### Unstuck :-)"
   ]
  },
  {
   "cell_type": "markdown",
   "metadata": {
    "heading_collapsed": true,
    "hidden": true
   },
   "source": [
    "#### Study question 1.3.9 (a)"
   ]
  },
  {
   "cell_type": "markdown",
   "metadata": {
    "hidden": true
   },
   "source": [
    "The answer to study question 1.3.9 shows how to prove that the slope of the best fit line $y = a + bx$ is\n",
    "$$\n",
    "b = \\frac{\\sigma_{XY}}{\\sigma^2_X}\n",
    "$$\n",
    "\n",
    "The proof has no mention of $\\varepsilon$ or the orthogonality principle, though.\n",
    "\n",
    "Here it is:\n",
    "\n",
    "![](21-bam.jpg)\n"
   ]
  },
  {
   "cell_type": "markdown",
   "metadata": {
    "hidden": true
   },
   "source": [
    "I've just found the error in my previous attempt to prove this using the orthogonality principle.\n",
    "\n",
    "Here is the wrong version again:\n",
    "\n",
    "![](19-orthogonality.jpg)\n"
   ]
  },
  {
   "cell_type": "markdown",
   "metadata": {
    "hidden": true
   },
   "source": [
    "The first problem here is that in line 5 I multiplied both sides of the equation by $Y$, when I should have multiplied by $X$. \n",
    "\n",
    "The second problem is that in line 7 I assumed $E[Y\\varepsilon] = 0$, but this is false!\n",
    "\n",
    "It is false because I am working from $Y = \\alpha + \\beta X + \\varepsilon$, which makes $Y$ *dependent* on $\\varepsilon$.\n",
    "\n",
    "What the orthogonality principle ensures is that $E[X\\varepsilon] = 0$, a fact I used --- implicitly --- in [the correct derivation above](#Unstuck-:-\\)).\n",
    "\n",
    "I say \"implicitly\" because the initial equation is actually\n",
    "$$\n",
    "Y = a + bX + \\varepsilon\n",
    "$$\n",
    "and, later, when I multiply both sides by $X$ --- *not* by $Y$ ---, I get\n",
    "$$\n",
    "E[XY] = aE[X] + bE[X^2] + E[X\\varepsilon]\n",
    "$$\n",
    "and *now* orthogonality makes $E[X\\varepsilon]$ vanish and things finally work out."
   ]
  },
  {
   "cell_type": "markdown",
   "metadata": {
    "heading_collapsed": true
   },
   "source": [
    "## Multiple regression"
   ]
  },
  {
   "cell_type": "markdown",
   "metadata": {
    "hidden": true
   },
   "source": [
    "![](22-multiple-regression.jpg)"
   ]
  },
  {
   "cell_type": "markdown",
   "metadata": {
    "heading_collapsed": true,
    "hidden": true
   },
   "source": [
    "### Example of planes and slopes"
   ]
  },
  {
   "cell_type": "markdown",
   "metadata": {
    "hidden": true
   },
   "source": [
    "![](23-example.png)"
   ]
  },
  {
   "cell_type": "markdown",
   "metadata": {
    "hidden": true
   },
   "source": [
    "+ Suppose the red plane is the best fit. Its equation is \n",
    "    $$\n",
    "    Z = 2X + 3Y\n",
    "    $$\n",
    "    \n",
    "+ The blue plane is a plane where $Y$ is held constant.\n",
    "\n",
    "+ The orange line is the intersection of both planes. \n",
    "\n",
    "+ The slope of this line -- i.e., the slope of $Z$ on $X$ when $Y$ is held constant -- is the coefficient of $X$, which is 2."
   ]
  },
  {
   "cell_type": "markdown",
   "metadata": {
    "hidden": true
   },
   "source": [
    "![](24-example.png)"
   ]
  },
  {
   "cell_type": "markdown",
   "metadata": {
    "hidden": true
   },
   "source": [
    "+ Now the green plane is a plane where $X$ is held constant.\n",
    "\n",
    "+ The orange line is the intersection of both planes. \n",
    "\n",
    "+ The slope of this line -- i.e., the slope of $Z$ on $Y$ when $X$ is held constant -- is the coefficient of $Y$, which is 3."
   ]
  },
  {
   "cell_type": "markdown",
   "metadata": {
    "heading_collapsed": true,
    "hidden": true
   },
   "source": [
    "### Study question 1.3.9 (b)"
   ]
  },
  {
   "cell_type": "markdown",
   "metadata": {
    "hidden": true
   },
   "source": [
    "![](25-1.3.9.png)"
   ]
  },
  {
   "cell_type": "markdown",
   "metadata": {
    "hidden": true
   },
   "source": [
    "The question should reference study question 1.3.8, not 1.3.7.\n",
    "\n",
    "Just use the values in the formulae. See the solution manual. The coefficients will be $1$ or $-1$, according to the case:\n",
    "\n",
    "+ If the sum $Y$ is held constant, an increase of 1 in $X$ will mean a decrease of 1 in $Z$.\n",
    "\n",
    "+ etc."
   ]
  }
 ],
 "metadata": {
  "kernelspec": {
   "display_name": "Python 3",
   "language": "python",
   "name": "python3"
  },
  "language_info": {
   "codemirror_mode": {
    "name": "ipython",
    "version": 3
   },
   "file_extension": ".py",
   "mimetype": "text/x-python",
   "name": "python",
   "nbconvert_exporter": "python",
   "pygments_lexer": "ipython3",
   "version": "3.6.7"
  },
  "toc": {
   "base_numbering": 1,
   "nav_menu": {},
   "number_sections": false,
   "sideBar": true,
   "skip_h1_title": false,
   "title_cell": "Table of Contents",
   "title_sidebar": "Contents",
   "toc_cell": false,
   "toc_position": {},
   "toc_section_display": true,
   "toc_window_display": true
  }
 },
 "nbformat": 4,
 "nbformat_minor": 2
}
