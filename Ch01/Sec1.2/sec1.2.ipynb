{
 "cells": [
  {
   "cell_type": "markdown",
   "metadata": {},
   "source": [
    "# [*Causal Inference in Statistics: A Primer*](https://www.wiley.com/en-us/Causal+Inference+in+Statistics%3A+A+Primer-p-9781119186847)\n",
    "\n",
    "# Judea Pearl, Madelyn Glymour, Nicholas P. Jewell \n",
    "\n",
    "# Section 1.2: Causality\n",
    "\n",
    "---\n",
    "\n",
    "![](https://media.wiley.com/product_data/coverImage300/46/11191868/1119186846.jpg)"
   ]
  },
  {
   "cell_type": "code",
   "execution_count": 1,
   "metadata": {},
   "outputs": [],
   "source": [
    "import numpy as np\n",
    "import pandas as pd\n",
    "import seaborn as sns\n",
    "import matplotlib as mpl\n",
    "import matplotlib.pyplot as plt\n",
    "plt.style.use('seaborn-darkgrid')"
   ]
  },
  {
   "cell_type": "markdown",
   "metadata": {},
   "source": [
    "## Simpson's paradox examples and causality graphs"
   ]
  },
  {
   "cell_type": "markdown",
   "metadata": {},
   "source": [
    "![](10-sex-drug-estrogen.jpg)\n",
    "\n",
    "![](20-age-exercise-cholesterol.jpg)\n",
    "\n",
    "![](40-bp.jpg)\n",
    "\n",
    "(BP = blood pressure)"
   ]
  },
  {
   "cell_type": "markdown",
   "metadata": {},
   "source": [
    "## Simpson's paradox in general"
   ]
  },
  {
   "cell_type": "markdown",
   "metadata": {},
   "source": [
    "![](25-simpson-general.jpg)\n",
    "\n",
    " **Conclusion:**\n",
    "\n",
    " The paradox originates from the different sizes of the\n",
    " subgroups ($x_i$ and $y_i$)."
   ]
  },
  {
   "cell_type": "markdown",
   "metadata": {},
   "source": [
    "## Study questions"
   ]
  },
  {
   "cell_type": "markdown",
   "metadata": {},
   "source": [
    "+ 1.2.1\n",
    "\n",
    "  ![](30-study-1.2.1.jpg)\n",
    "\n",
    "+ 1.2.2\n",
    "\n",
    "  ![](35-study-1.2.2.jpg)\n",
    "\n",
    "  $T_l$ = hits by Tim against left-handed pitchers\n",
    "\n",
    "  $T_L$ = at-bat by Tim against left-handed pitchers\n",
    "\n",
    "  $T_r$ = hits by Tim against right-handed pitchers\n",
    "\n",
    "  $T_R$ = at-bat by Tim against right-handed pitchers\n",
    "\n",
    "  $F_l$ = hits by Frank against left-handed pitchers\n",
    "\n",
    "  $F_L$ = at-bat by Frank against left-handed pitchers\n",
    "\n",
    "  $F_r$ = hits by Frank against right-handed pitchers\n",
    "\n",
    "  $F_R$ = at-bat by Frank against right-handed pitchers\n",
    "\n",
    "+ 1.2.3\n",
    "\n",
    "  ![](50-study-1.2.3.jpg)\n",
    "\n",
    "  According to the solution manual, the /right-hand side/\n",
    "  graph is the correct one.\n",
    "\n",
    "+ 1.2.4\n",
    "\n",
    "  Very complicated example. See solution manual. The graph is\n",
    "\n",
    "  ![](60-study-1.2.4.png)\n",
    "\n",
    "  with $X$ = treatment, $Y$ = recovery, $Z$ = lollipop.\n"
   ]
  }
 ],
 "metadata": {
  "kernelspec": {
   "display_name": "Python 3",
   "language": "python",
   "name": "python3"
  },
  "language_info": {
   "codemirror_mode": {
    "name": "ipython",
    "version": 3
   },
   "file_extension": ".py",
   "mimetype": "text/x-python",
   "name": "python",
   "nbconvert_exporter": "python",
   "pygments_lexer": "ipython3",
   "version": "3.6.7"
  },
  "toc": {
   "base_numbering": 1,
   "nav_menu": {},
   "number_sections": false,
   "sideBar": true,
   "skip_h1_title": true,
   "title_cell": "Table of Contents",
   "title_sidebar": "Contents",
   "toc_cell": false,
   "toc_position": {},
   "toc_section_display": true,
   "toc_window_display": true
  }
 },
 "nbformat": 4,
 "nbformat_minor": 2
}
