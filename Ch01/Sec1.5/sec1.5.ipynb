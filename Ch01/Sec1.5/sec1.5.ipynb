{
 "cells": [
  {
   "cell_type": "markdown",
   "metadata": {
    "toc": true
   },
   "source": [
    "<h1>Table of Contents<span class=\"tocSkip\"></span></h1>\n",
    "<div class=\"toc\"><ul class=\"toc-item\"><li><span><a href=\"#Causal-Inference-in-Statistics:-A-Primer\" data-toc-modified-id=\"Causal-Inference-in-Statistics:-A-Primer-1\"><a href=\"https://www.wiley.com/en-us/Causal+Inference+in+Statistics%3A+A+Primer-p-9781119186847\" target=\"_blank\"><em>Causal Inference in Statistics: A Primer</em></a></a></span></li><li><span><a href=\"#Judea-Pearl,-Madelyn-Glymour,-Nicholas-P.-Jewell\" data-toc-modified-id=\"Judea-Pearl,-Madelyn-Glymour,-Nicholas-P.-Jewell-2\">Judea Pearl, Madelyn Glymour, Nicholas P. Jewell</a></span></li><li><span><a href=\"#Section-1.5:-Structural-Causal-Models\" data-toc-modified-id=\"Section-1.5:-Structural-Causal-Models-3\">Section 1.5: Structural Causal Models</a></span><ul class=\"toc-item\"><li><span><a href=\"#Modeling-causal-assumptions\" data-toc-modified-id=\"Modeling-causal-assumptions-3.1\">Modeling causal assumptions</a></span><ul class=\"toc-item\"><li><span><a href=\"#Study-questions\" data-toc-modified-id=\"Study-questions-3.1.1\">Study questions</a></span><ul class=\"toc-item\"><li><span><a href=\"#1.5.1\" data-toc-modified-id=\"1.5.1-3.1.1.1\">1.5.1</a></span></li></ul></li></ul></li><li><span><a href=\"#Product-decomposition\" data-toc-modified-id=\"Product-decomposition-3.2\">Product decomposition</a></span></li><li><span><a href=\"#Study-questions\" data-toc-modified-id=\"Study-questions-3.3\">Study questions</a></span><ul class=\"toc-item\"><li><span><a href=\"#1.5.2\" data-toc-modified-id=\"1.5.2-3.3.1\">1.5.2</a></span></li><li><span><a href=\"#1.5.3\" data-toc-modified-id=\"1.5.3-3.3.2\">1.5.3</a></span></li><li><span><a href=\"#1.5.4\" data-toc-modified-id=\"1.5.4-3.3.3\">1.5.4</a></span></li></ul></li></ul></li></ul></div>"
   ]
  },
  {
   "cell_type": "markdown",
   "metadata": {},
   "source": [
    "# [*Causal Inference in Statistics: A Primer*](https://www.wiley.com/en-us/Causal+Inference+in+Statistics%3A+A+Primer-p-9781119186847)\n",
    "\n",
    "# Judea Pearl, Madelyn Glymour, Nicholas P. Jewell \n",
    "\n",
    "# Section 1.5: Structural Causal Models\n",
    "\n",
    "---\n",
    "\n",
    "![](https://media.wiley.com/product_data/coverImage300/46/11191868/1119186846.jpg)"
   ]
  },
  {
   "cell_type": "code",
   "execution_count": 1,
   "metadata": {},
   "outputs": [],
   "source": [
    "import math\n",
    "import numpy as np\n",
    "import pandas as pd\n",
    "import seaborn as sns\n",
    "import matplotlib as mpl\n",
    "import matplotlib.pyplot as plt\n",
    "%matplotlib inline\n",
    "plt.style.use('seaborn-darkgrid')"
   ]
  },
  {
   "cell_type": "markdown",
   "metadata": {
    "heading_collapsed": true
   },
   "source": [
    "## Modeling causal assumptions"
   ]
  },
  {
   "cell_type": "markdown",
   "metadata": {
    "heading_collapsed": true,
    "hidden": true
   },
   "source": [
    "### Study questions"
   ]
  },
  {
   "cell_type": "markdown",
   "metadata": {
    "heading_collapsed": true,
    "hidden": true
   },
   "source": [
    "#### 1.5.1"
   ]
  },
  {
   "cell_type": "markdown",
   "metadata": {
    "hidden": true
   },
   "source": [
    "![](01-sq-1.5.1.jpg)\n",
    "\n",
    "![](02-sq-1.5.1-cont.jpg)\n",
    "\n",
    "![](03-sq-1.5.1-cont.jpg)\n",
    "\n",
    "![](04-sq-1.5.1-cont.jpg)\n",
    "\n",
    "![](05-sq-1.5.1-cont.jpg)\n",
    "\n",
    "![](06-sq-1.5.1-cont.jpg)"
   ]
  },
  {
   "cell_type": "markdown",
   "metadata": {
    "heading_collapsed": true
   },
   "source": [
    "## Product decomposition"
   ]
  },
  {
   "cell_type": "markdown",
   "metadata": {
    "hidden": true
   },
   "source": [
    "![](07-product.png)"
   ]
  },
  {
   "cell_type": "markdown",
   "metadata": {},
   "source": [
    "## Study questions"
   ]
  },
  {
   "cell_type": "markdown",
   "metadata": {},
   "source": [
    "### 1.5.2"
   ]
  },
  {
   "cell_type": "markdown",
   "metadata": {},
   "source": [
    "![](08-sq-1.5.2.jpg)\n",
    "\n",
    "![](09-sq-1.5.2.jpg)\n",
    "\n",
    "![](10-sq-1.5.2.jpg)\n",
    "\n",
    "![](11-sq-1.5.2.jpg)"
   ]
  },
  {
   "cell_type": "markdown",
   "metadata": {},
   "source": [
    "Here I tried to express $P(Y=1 \\mid X=1)$ the following way:\n",
    "$$\n",
    "P(Y=1 \\mid X=1) \\qquad=\\qquad P(Y=1 \\mid X=1, Z=0) \\quad+\\quad P(Y=1 \\mid X=1, Z=1)\n",
    "$$\n",
    "similarly to marginalization, where\n",
    "$$\n",
    "P(Y=1, X=1) \\qquad=\\qquad P(Y=1, X=1, Z=0) \\quad+\\quad P(Y=1, X=1, Z=1)\n",
    "$$\n",
    "\n",
    "But, of course, this does not work.\n",
    "\n",
    "I had to make a digression to get things straight:\n",
    "\n",
    "![](12-marginalization-conditionals.jpg)"
   ]
  },
  {
   "cell_type": "markdown",
   "metadata": {},
   "source": [
    "Now I can resume work on the solution:\n",
    "\n",
    "![](13-sq-1.5.2.jpg)\n",
    "\n",
    "Of course, the solution manual makes it even simpler, using\n",
    "$$\n",
    "P(Y=1 \\mid X=1) \\qquad=\\qquad \\frac{P(Y=1, X=1)}{P(X=1)} \n",
    "$$"
   ]
  },
  {
   "cell_type": "markdown",
   "metadata": {},
   "source": [
    "### 1.5.3"
   ]
  },
  {
   "cell_type": "markdown",
   "metadata": {},
   "source": [
    "![](14-sq-1.5.3.jpg)\n",
    "\n",
    "![](15-sq-1.5.3.jpg)\n",
    "\n",
    "![](16-sq-1.5.3.jpg)"
   ]
  },
  {
   "cell_type": "markdown",
   "metadata": {},
   "source": [
    "### 1.5.4"
   ]
  },
  {
   "cell_type": "markdown",
   "metadata": {},
   "source": [
    "![](17-sq-1.5.4.jpg)"
   ]
  }
 ],
 "metadata": {
  "kernelspec": {
   "display_name": "Python 3",
   "language": "python",
   "name": "python3"
  },
  "language_info": {
   "codemirror_mode": {
    "name": "ipython",
    "version": 3
   },
   "file_extension": ".py",
   "mimetype": "text/x-python",
   "name": "python",
   "nbconvert_exporter": "python",
   "pygments_lexer": "ipython3",
   "version": "3.6.7"
  },
  "toc": {
   "base_numbering": 1,
   "nav_menu": {},
   "number_sections": false,
   "sideBar": true,
   "skip_h1_title": false,
   "title_cell": "Table of Contents",
   "title_sidebar": "Contents",
   "toc_cell": true,
   "toc_position": {},
   "toc_section_display": true,
   "toc_window_display": true
  }
 },
 "nbformat": 4,
 "nbformat_minor": 2
}
