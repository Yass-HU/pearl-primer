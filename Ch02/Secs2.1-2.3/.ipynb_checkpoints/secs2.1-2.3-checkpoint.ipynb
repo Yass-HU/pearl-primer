{
 "cells": [
  {
   "cell_type": "markdown",
   "metadata": {
    "toc": true
   },
   "source": [
    "<h1>Table of Contents<span class=\"tocSkip\"></span></h1>\n",
    "<div class=\"toc\"><ul class=\"toc-item\"><li><span><a href=\"#Summary-of-the-rules\" data-toc-modified-id=\"Summary-of-the-rules-1\">Summary of the rules</a></span></li><li><span><a href=\"#2.2-Chains-and-forks\" data-toc-modified-id=\"2.2-Chains-and-forks-2\">2.2 Chains and forks</a></span><ul class=\"toc-item\"><li><span><a href=\"#Chains\" data-toc-modified-id=\"Chains-2.1\">Chains</a></span></li><li><span><a href=\"#Forks\" data-toc-modified-id=\"Forks-2.2\">Forks</a></span></li></ul></li><li><span><a href=\"#2.3-Colliders\" data-toc-modified-id=\"2.3-Colliders-3\">2.3 Colliders</a></span></li><li><span><a href=\"#Study-questions\" data-toc-modified-id=\"Study-questions-4\">Study questions</a></span><ul class=\"toc-item\"><li><span><a href=\"#2.3.1\" data-toc-modified-id=\"2.3.1-4.1\">2.3.1</a></span><ul class=\"toc-item\"><li><span><a href=\"#Insights\" data-toc-modified-id=\"Insights-4.1.1\">Insights</a></span></li><li><span><a href=\"#Line-fitting-and-independence\" data-toc-modified-id=\"Line-fitting-and-independence-4.1.2\">Line fitting and independence</a></span></li><li><span><a href=\"#Answers\" data-toc-modified-id=\"Answers-4.1.3\">Answers</a></span></li></ul></li></ul></li></ul></div>"
   ]
  },
  {
   "cell_type": "markdown",
   "metadata": {},
   "source": [
    "# [*Causal Inference in Statistics: A Primer*](https://www.wiley.com/en-us/Causal+Inference+in+Statistics%3A+A+Primer-p-9781119186847)\n",
    "\n",
    "# Judea Pearl, Madelyn Glymour, Nicholas P. Jewell \n",
    "\n",
    "# Sections 2.1 -- 2.3: Chains, forks, colliders\n",
    "\n",
    "---\n",
    "\n",
    "![](https://media.wiley.com/product_data/coverImage300/46/11191868/1119186846.jpg)"
   ]
  },
  {
   "cell_type": "markdown",
   "metadata": {},
   "source": [
    "## Summary of the rules"
   ]
  },
  {
   "cell_type": "markdown",
   "metadata": {},
   "source": [
    "1. **(Chains)** If there is only one *undirected* path between $X$ and $Y$, and $Z$ is any set of variables that intercepts that path, then $X$ and $Y$ are conditionally independent given $Z$.\n",
    "    $$\n",
    "    X \\cdots\\to Z \\to\\cdots Y\n",
    "    $$\n",
    "    \n",
    "2. **(Forks)** If $X$ is a common (*not necessarily immediate*) cause of $Y$ and $Z$, and there is only one *undirected* path between $Y$ and $Z$, then $Y$ and $Z$ are independent, conditional on $X$.\n",
    "    $$\n",
    "    Y \\cdots\\gets X \\to\\cdots Z\n",
    "    $$\n",
    "    \n",
    "3. **(Colliders)** If $Z$ is the collision node between $X$ and $Y$ (*not necessarily $X$ and $Y$ adjacent to $Z$*), and there is only one *undirected* path between $X$ and $Y$, then\n",
    "\n",
    "    * $X$ and $Y$ are unconditionally independent, and\n",
    "    \n",
    "    * $X$ and $Y$ are dependent conditional on $Z$ *and its descendants*.\n",
    "    \n",
    "    $$\n",
    "    X \\cdots\\to Z \\gets\\cdots Y\n",
    "    $$"
   ]
  },
  {
   "cell_type": "markdown",
   "metadata": {},
   "source": [
    "## 2.2 Chains and forks"
   ]
  },
  {
   "cell_type": "markdown",
   "metadata": {},
   "source": [
    "### Chains"
   ]
  },
  {
   "cell_type": "markdown",
   "metadata": {},
   "source": [
    "In the SCM\n",
    "$$\n",
    "X \\to Y \\to Z\n",
    "$$\n",
    "$X$ and $Z$ are independent, conditional on $Y$:\n",
    "$$\n",
    "\\forall x, y, z \\quad P(Z = z \\mid X = x, Y = y) \\;=\\; P(Z = z \\mid Y = y)\n",
    "$$\n",
    "\n",
    "Example: $X = \\text{fire}, \\quad Y = \\text{smoke}, \\quad Z = \\text{smoke detector}$.\n",
    "\n",
    "This holds only if the error terms $U_X$, $U_Y$ and $U_Z$ are mutually independent."
   ]
  },
  {
   "cell_type": "markdown",
   "metadata": {},
   "source": [
    "### Forks"
   ]
  },
  {
   "cell_type": "markdown",
   "metadata": {},
   "source": [
    "In the SCM\n",
    "$$\n",
    "Y \\gets X \\to Z\n",
    "$$\n",
    "$Y$ and $Z$ are independent, conditional on $X$:\n",
    "$$\n",
    "\\forall x, y, z \\quad P(Z = z \\mid X = x, Y = y) \\;=\\; P(Z = z \\mid X = x)\n",
    "$$\n",
    "\n",
    "Example: $X = \\text{Temperature}, \\quad Y = \\text{Ice cream sales}, \\quad Z = \\text{Crime}$.\n",
    "\n",
    "If the temperature is held constant (i.e., conditioned on), then ice cream sales and crime vary independently, according to their respective (independent) error terms.\n",
    "\n",
    "This holds only if the error terms $U_X$, $U_Y$ and $U_Z$ are mutually independent."
   ]
  },
  {
   "cell_type": "markdown",
   "metadata": {},
   "source": [
    "## 2.3 Colliders"
   ]
  },
  {
   "cell_type": "markdown",
   "metadata": {},
   "source": [
    "In the SCM\n",
    "$$\n",
    "X \\to Z \\gets Y\n",
    "$$\n",
    "$X$ and $Y$ are unconditionally independent, but they are dependent conditional on $Z$:\n",
    "$$\n",
    "\\forall x, y, z \\quad P(X = x \\mid Y = y, Z = z) \\;=\\; P(X = x \\mid Z = z)\n",
    "$$\n",
    "\n",
    "Example: $X = \\text{Die 1}, \\quad Y = \\text{Die 2}, \\quad Z = \\text{Sum of the two dice}$.\n",
    "\n",
    "If the sum of the two dice is held constant (i.e., conditioned on), then knowing the result of one die will also give us the result of the other die.\n",
    "\n",
    "This holds only if the error terms $U_X$, $U_Y$ and $U_Z$ are mutually independent."
   ]
  },
  {
   "cell_type": "markdown",
   "metadata": {},
   "source": [
    "## Study questions"
   ]
  },
  {
   "cell_type": "markdown",
   "metadata": {},
   "source": [
    "### 2.3.1"
   ]
  },
  {
   "cell_type": "markdown",
   "metadata": {},
   "source": [
    "#### Insights"
   ]
  },
  {
   "cell_type": "markdown",
   "metadata": {},
   "source": [
    "These exercises helped me understand the [three rules](#Summary-of-the-rules) better. Some insights:\n",
    "\n",
    "* I must check *undirected* paths between source node and target node.\n",
    "\n",
    "* I must think in terms of *open* and *closed* paths.\n",
    "\n",
    "* Open = dependent.\n",
    "\n",
    "* Closed = independent.\n",
    "\n",
    "* When I condition on no variables, *only colliders close paths*. \n",
    "\n",
    "* I.e., *colliders make ancestors unconditionally independent*.\n",
    "\n",
    "* All other paths are initially open, so other variables are (likely) dependent."
   ]
  },
  {
   "cell_type": "markdown",
   "metadata": {},
   "source": [
    "#### Line fitting and independence"
   ]
  },
  {
   "cell_type": "markdown",
   "metadata": {},
   "source": [
    "I am also reminded that, when fitting a line with an equation\n",
    "$$\n",
    "Y = a + bX + cZ\n",
    "$$\n",
    "slope $b$ will be zero iff $Y$ and $X$ are independent given $Z$. \n",
    "\n",
    "In terms of calculus, this means\n",
    "$$\n",
    "\\frac{\\partial Y}{\\partial X} = 0\n",
    "$$\n",
    "i.e., when $Z$ is considered a constant, $Y$ does not depend on $X$."
   ]
  },
  {
   "cell_type": "markdown",
   "metadata": {},
   "source": [
    "#### Answers"
   ]
  },
  {
   "cell_type": "markdown",
   "metadata": {},
   "source": [
    "![](01-sq-2.3.1.jpg)\n",
    "\n",
    "![](02-sq-2.3.1.jpg)\n",
    "\n",
    "![](03-sq-2.3.1.jpg)"
   ]
  }
 ],
 "metadata": {
  "kernelspec": {
   "display_name": "Python 3",
   "language": "python",
   "name": "python3"
  },
  "language_info": {
   "codemirror_mode": {
    "name": "ipython",
    "version": 3
   },
   "file_extension": ".py",
   "mimetype": "text/x-python",
   "name": "python",
   "nbconvert_exporter": "python",
   "pygments_lexer": "ipython3",
   "version": "3.6.7"
  },
  "toc": {
   "base_numbering": 1,
   "nav_menu": {},
   "number_sections": false,
   "sideBar": true,
   "skip_h1_title": true,
   "title_cell": "Table of Contents",
   "title_sidebar": "Contents",
   "toc_cell": true,
   "toc_position": {},
   "toc_section_display": true,
   "toc_window_display": true
  }
 },
 "nbformat": 4,
 "nbformat_minor": 2
}
