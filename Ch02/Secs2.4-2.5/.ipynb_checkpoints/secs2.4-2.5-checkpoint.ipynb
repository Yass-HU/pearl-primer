{
 "cells": [
  {
   "cell_type": "markdown",
   "metadata": {
    "toc": true
   },
   "source": [
    "<h1>Table of Contents<span class=\"tocSkip\"></span></h1>\n",
    "<div class=\"toc\"><ul class=\"toc-item\"><li><span><a href=\"#d-separation\" data-toc-modified-id=\"d-separation-1\">d-separation</a></span></li><li><span><a href=\"#Study-questions\" data-toc-modified-id=\"Study-questions-2\">Study questions</a></span><ul class=\"toc-item\"><li><span><a href=\"#2.4.1\" data-toc-modified-id=\"2.4.1-2.1\">2.4.1</a></span></li></ul></li><li><span><a href=\"#Markov-blankets\" data-toc-modified-id=\"Markov-blankets-3\">Markov blankets</a></span></li><li><span><a href=\"#Model-testing-and-causal-search\" data-toc-modified-id=\"Model-testing-and-causal-search-4\">Model testing and causal search</a></span><ul class=\"toc-item\"><li><span><a href=\"#Using-d-separation-and-regression-to-test-a-model-against-the-data\" data-toc-modified-id=\"Using-d-separation-and-regression-to-test-a-model-against-the-data-4.1\">Using d-separation and regression to test a model against the data</a></span></li><li><span><a href=\"#Equivalence-classes-of-DAGs\" data-toc-modified-id=\"Equivalence-classes-of-DAGs-4.2\">Equivalence classes of DAGs</a></span></li></ul></li><li><span><a href=\"#Study-questions\" data-toc-modified-id=\"Study-questions-5\">Study questions</a></span><ul class=\"toc-item\"><li><span><a href=\"#2.5.1\" data-toc-modified-id=\"2.5.1-5.1\">2.5.1</a></span></li></ul></li></ul></div>"
   ]
  },
  {
   "cell_type": "markdown",
   "metadata": {},
   "source": [
    "# [*Causal Inference in Statistics: A Primer*](https://www.wiley.com/en-us/Causal+Inference+in+Statistics%3A+A+Primer-p-9781119186847)\n",
    "\n",
    "# Judea Pearl, Madelyn Glymour, Nicholas P. Jewell \n",
    "\n",
    "# Sections 2.4 -- 2.5: d-separation, model testing, causal search\n",
    "\n",
    "---\n",
    "\n",
    "![](https://media.wiley.com/product_data/coverImage300/46/11191868/1119186846.jpg)"
   ]
  },
  {
   "cell_type": "markdown",
   "metadata": {},
   "source": [
    "## d-separation"
   ]
  },
  {
   "cell_type": "markdown",
   "metadata": {},
   "source": [
    "* d = directional\n",
    "\n",
    "* $X$ and $Y$ are *d-separated* $\\iff$ $X$ and $Y$ are independent.\n",
    "\n",
    "* $X$ and $Y$ are *d-connected* $\\iff$ $X$ and $Y$ are likely dependent.\n",
    "\n",
    "![](01-d-separation.png)\n",
    "\n",
    "![](02-d-separation.png)"
   ]
  },
  {
   "cell_type": "markdown",
   "metadata": {},
   "source": [
    "## Study questions"
   ]
  },
  {
   "cell_type": "markdown",
   "metadata": {},
   "source": [
    "### 2.4.1"
   ]
  },
  {
   "cell_type": "markdown",
   "metadata": {},
   "source": [
    "![](03-sq-2.4.1.jpg)\n",
    "\n",
    "![](04-sq-2.4.1.jpg)\n",
    "\n",
    "![](05-sq-2.4.1.jpg)\n",
    "\n",
    "![](06-sq-2.4.1.jpg)\n"
   ]
  },
  {
   "cell_type": "markdown",
   "metadata": {},
   "source": [
    "## Markov blankets"
   ]
  },
  {
   "cell_type": "markdown",
   "metadata": {},
   "source": [
    "![](07-markov-blankets.jpg)"
   ]
  },
  {
   "cell_type": "markdown",
   "metadata": {},
   "source": [
    "## Model testing and causal search"
   ]
  },
  {
   "cell_type": "markdown",
   "metadata": {},
   "source": [
    "### Using d-separation and regression to test a model against the data"
   ]
  },
  {
   "cell_type": "markdown",
   "metadata": {},
   "source": [
    "* Suppose our DAG tells us that $X$ and $Y$ are d-separated by (i.e., independent given) $Z$.\n",
    "\n",
    "* Then using the data, we regress $X = a + bY + cZ$.\n",
    "\n",
    "* If $b \\approx 0$, ok.\n",
    "\n",
    "* But if $b \\not\\approx 0$, then the data is saying that $X$ depends on $Y$ given $Z$, which contradicts the DAG. \n",
    "\n",
    "* The conclusion is that the model does not correspond well to the data."
   ]
  },
  {
   "cell_type": "markdown",
   "metadata": {},
   "source": [
    "### Equivalence classes of DAGs"
   ]
  },
  {
   "cell_type": "markdown",
   "metadata": {},
   "source": [
    "* $G_1$ and $G_2$ are in the same equivalence class ($G_1 \\equiv G_2$) iff\n",
    "\n",
    "  - they share the same skeleton (i.e., underlying undirected graph), AND\n",
    "  \n",
    "  - they have the same v-structures (i.e., colliders whose parents are not adjacent).\n",
    "  \n",
    "* If $G_1 \\equiv G_2$, then they have identical sets of d-separation conditions (i.e., identical sets of testable implications).\n",
    "\n",
    "* So, an equivalent DAG $G_2$ may be obtained by reversing arrows of $G_1$, as long as\n",
    "\n",
    "  - No v-structures of $G_1$ are destroyed, AND\n",
    "  \n",
    "  - No new v-structures are created in $G_2$, AND\n",
    "  \n",
    "  - No cycles are created in $G_2$.\n",
    "\n",
    "* The proof is in [Verma and Pearl 1990](https://dslpitt.org/uai/papers/90/p220-verma.pdf).\n",
    "\n",
    "* The solution manual says that *\"while d-separation is valid in linear cyclical models, it is not valid in general, namely, for any non-linear functions.\"* So a model may be cyclical???"
   ]
  },
  {
   "cell_type": "markdown",
   "metadata": {},
   "source": [
    "## Study questions"
   ]
  },
  {
   "cell_type": "markdown",
   "metadata": {},
   "source": [
    "### 2.5.1"
   ]
  },
  {
   "cell_type": "markdown",
   "metadata": {},
   "source": [
    " ![](08-sq-2.5.1.jpg)\n",
    " \n",
    " ![](09-sq-2.5.1.jpg)"
   ]
  }
 ],
 "metadata": {
  "kernelspec": {
   "display_name": "Python 3",
   "language": "python",
   "name": "python3"
  },
  "language_info": {
   "codemirror_mode": {
    "name": "ipython",
    "version": 3
   },
   "file_extension": ".py",
   "mimetype": "text/x-python",
   "name": "python",
   "nbconvert_exporter": "python",
   "pygments_lexer": "ipython3",
   "version": "3.6.7"
  },
  "toc": {
   "base_numbering": 1,
   "nav_menu": {},
   "number_sections": false,
   "sideBar": true,
   "skip_h1_title": true,
   "title_cell": "Table of Contents",
   "title_sidebar": "Contents",
   "toc_cell": true,
   "toc_position": {},
   "toc_section_display": true,
   "toc_window_display": true
  }
 },
 "nbformat": 4,
 "nbformat_minor": 2
}
