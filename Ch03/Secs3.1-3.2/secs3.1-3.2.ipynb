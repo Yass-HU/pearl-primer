{
 "cells": [
  {
   "cell_type": "markdown",
   "metadata": {
    "toc": true
   },
   "source": [
    "<h1>Table of Contents<span class=\"tocSkip\"></span></h1>\n",
    "<div class=\"toc\"><ul class=\"toc-item\"><li><span><a href=\"#Interventions\" data-toc-modified-id=\"Interventions-1\">Interventions</a></span></li><li><span><a href=\"#The-adjustment-formula\" data-toc-modified-id=\"The-adjustment-formula-2\">The adjustment formula</a></span><ul class=\"toc-item\"><li><span><a href=\"#Rule-1:-causal-effect\" data-toc-modified-id=\"Rule-1:-causal-effect-2.1\">Rule 1: causal effect</a></span></li></ul></li><li><span><a href=\"#Study-questions\" data-toc-modified-id=\"Study-questions-3\">Study questions</a></span><ul class=\"toc-item\"><li><span><a href=\"#3.2.1\" data-toc-modified-id=\"3.2.1-3.1\">3.2.1</a></span></li></ul></li><li><span><a href=\"#Multiple-interventions-and-the-truncated-product-rule-(g-formula)\" data-toc-modified-id=\"Multiple-interventions-and-the-truncated-product-rule-(g-formula)-4\">Multiple interventions and the truncated product rule (g-formula)</a></span></li><li><span><a href=\"#The-backdoor-criterion\" data-toc-modified-id=\"The-backdoor-criterion-5\">The backdoor criterion</a></span></li><li><span><a href=\"#Study-questions\" data-toc-modified-id=\"Study-questions-6\">Study questions</a></span><ul class=\"toc-item\"><li><span><a href=\"#3.3.1\" data-toc-modified-id=\"3.3.1-6.1\">3.3.1</a></span></li></ul></li></ul></div>"
   ]
  },
  {
   "cell_type": "markdown",
   "metadata": {},
   "source": [
    "# [*Causal Inference in Statistics: A Primer*](https://www.wiley.com/en-us/Causal+Inference+in+Statistics%3A+A+Primer-p-9781119186847)\n",
    "\n",
    "# Judea Pearl, Madelyn Glymour, Nicholas P. Jewell \n",
    "\n",
    "# Sections 3.1 -- 3.2: Interventions and the adjustment formula\n",
    "\n",
    "---\n",
    "\n",
    "![](https://media.wiley.com/product_data/coverImage300/46/11191868/1119186846.jpg)"
   ]
  },
  {
   "cell_type": "markdown",
   "metadata": {},
   "source": [
    "## Interventions"
   ]
  },
  {
   "cell_type": "markdown",
   "metadata": {},
   "source": [
    "* RCT: randomized controlled trials.\n",
    "\n",
    "* RCE: randomized controlled experiments.\n",
    "\n",
    "* In a properly randomized controlled experiment, all factors that influence the outcome variable are either static, or vary at random, except for one — so any change in the outcome variable must be due to that one input variable.\n",
    "\n",
    "* But not everything can be randomized; e.g., weather.\n",
    "\n",
    "* In cases where randomized controlled experiments are not practical, researchers instead perform *observational studies*, in which they merely record data, rather than controlling it.\n",
    "\n",
    "* The problem of such studies is that it is difficult to untangle the causal from the merely correlative.\n",
    "\n",
    "* Intervention $\\neq$ conditioning.\n",
    "\n",
    "* Fix a value, change the system $\\neq$ change nothing, narrow focus to a subset of cases.\n",
    "\n",
    "* Graph surgery:\n",
    "\n",
    "![](./01-ice-cream.png)\n",
    "\n",
    "![](./02-ice-cream-intervention.png)\n",
    "\n",
    "* Conditioning: $P(Y = y \\mid X = x)$.\n",
    "\n",
    "* Intervening: $P(Y = y \\mid \\text{do}(X = x))$ represents the distribution if *everyone in the population* had  their value of $X$ fixed to $x$.\n",
    "\n",
    "* $P(Y = y \\mid \\text{do}(X = x), Z = z)$ represents the probability of $Y = y$, given $Z = z$, in the population where everyone has $X$ fixed to $x$.\n",
    "\n",
    "* Objective: derive *causal* information from *observational* data.\n",
    "\n",
    "* Assumption: interventions on one variable have no *direct side-effects* on other variables."
   ]
  },
  {
   "cell_type": "markdown",
   "metadata": {},
   "source": [
    "## The adjustment formula"
   ]
  },
  {
   "cell_type": "markdown",
   "metadata": {},
   "source": [
    "* Calculating the difference between giving *everybody* the drug and giving *nobody* the drug:\n",
    "\n",
    "  ![](./03-drug.png)\n",
    "\n",
    "* This is called the *causal effect difference*, or *average causal effect* (ACE).\n",
    "\n",
    "* Graph surgery:\n",
    "\n",
    "  ![](./04-surgery.png)\n",
    "  \n",
    "* The causal effect $P(Y = 1 \\mid \\text{do}(X = 1))$ is equal to\n",
    "    $$\n",
    "    P_m (Y = 1 \\mid X = 1)\n",
    "    $$\n",
    "  where $P_m$ is the probability *in the modified, post-intervention model*.\n",
    "  \n",
    "* To calculate $P(Y = y \\mid \\text{do}(X = x))$, we reason as follows:\n",
    "\n",
    "  ![](./05-adj.jpg)\n",
    "  \n",
    "  Where the line marked (\\*) is justified by\n",
    "\n",
    "  ![](./06-adj.jpg)\n",
    "  \n",
    "  which comes from a previous digression in [chapter 1](../../Ch01/Sec1.5/sec1.5.ipynb#1.5.2): \n",
    "  \n",
    "  ![](../../Ch01/Sec1.5/12-marginalization-conditionals.jpg)\n",
    "  \n",
    "* To conclude, we have\n",
    "  $$\n",
    "  P(Y = y \\mid \\text{do}(X = x)) \\quad=\\quad \\sum_z P(Y = y \\mid X = x, Z = z) \\cdot P(Z = z)\n",
    "  $$\n",
    "  \n",
    "* This basically says that we are randomizing variable $Z$, i.e., we are averaging over all values that $Z$ can take. \n",
    "\n",
    "* In general, we must do that to every parent of $X$, the variable upon which the intervention is done.\n",
    "\n",
    "* Example using data from chapter 1. Note that the adjustment formula tells us to condition on gender ($Z$), find the effect of $X$ separately, and then average the results using the proportions of males and females:\n",
    "\n",
    "  ![](./07-drugs.png)\n",
    "  \n",
    "* Another example:\n",
    "\n",
    "  ![](./08-bp.png)\n",
    "  \n",
    "  - Here, $P(Y \\mid \\text{do}(X))$ is just $P(Y \\mid X)$, because $X$ has no parents.\n",
    "  \n",
    "  - After surgery, the DAG is exactly as before.\n",
    "  \n",
    "  - This means that $X$ is as if randomized."
   ]
  },
  {
   "cell_type": "markdown",
   "metadata": {},
   "source": [
    "### Rule 1: causal effect"
   ]
  },
  {
   "cell_type": "markdown",
   "metadata": {},
   "source": [
    "![](./09-rule.png)"
   ]
  },
  {
   "cell_type": "markdown",
   "metadata": {},
   "source": [
    "## Study questions"
   ]
  },
  {
   "cell_type": "markdown",
   "metadata": {},
   "source": [
    "### 3.2.1"
   ]
  },
  {
   "cell_type": "markdown",
   "metadata": {},
   "source": [
    "Done. See solution manual."
   ]
  },
  {
   "cell_type": "markdown",
   "metadata": {},
   "source": [
    "## Multiple interventions and the truncated product rule (g-formula)"
   ]
  },
  {
   "cell_type": "markdown",
   "metadata": {},
   "source": [
    "![](10-multiple.jpg)"
   ]
  },
  {
   "cell_type": "markdown",
   "metadata": {},
   "source": [
    "## The backdoor criterion"
   ]
  },
  {
   "cell_type": "markdown",
   "metadata": {},
   "source": [
    "* ![](11-backdoor.png)\n",
    "\n",
    "* The idea now is that, instead of using $\\text{Parents}(x)$ to calculate $P(Y \\mid \\text{do}(X = x))$, we can use a smaller set of variables $Z$ that satisfies the backdoor criterion. Then we adjust for $Z$ instead of $\\text{Parents}(x)$.\n",
    "\n",
    "* This is particularly useful when $\\text{Parents}(x)$ contains unobservable variables."
   ]
  },
  {
   "cell_type": "markdown",
   "metadata": {},
   "source": [
    "## Study questions"
   ]
  },
  {
   "cell_type": "markdown",
   "metadata": {},
   "source": [
    "### 3.3.1"
   ]
  },
  {
   "cell_type": "markdown",
   "metadata": {},
   "source": [
    "![](12-sq3.1.1.jpg)"
   ]
  }
 ],
 "metadata": {
  "kernelspec": {
   "display_name": "Python 3",
   "language": "python",
   "name": "python3"
  },
  "language_info": {
   "codemirror_mode": {
    "name": "ipython",
    "version": 3
   },
   "file_extension": ".py",
   "mimetype": "text/x-python",
   "name": "python",
   "nbconvert_exporter": "python",
   "pygments_lexer": "ipython3",
   "version": "3.6.7"
  },
  "toc": {
   "base_numbering": 1,
   "nav_menu": {},
   "number_sections": false,
   "sideBar": true,
   "skip_h1_title": true,
   "title_cell": "Table of Contents",
   "title_sidebar": "Contents",
   "toc_cell": true,
   "toc_position": {},
   "toc_section_display": true,
   "toc_window_display": true
  }
 },
 "nbformat": 4,
 "nbformat_minor": 2
}
