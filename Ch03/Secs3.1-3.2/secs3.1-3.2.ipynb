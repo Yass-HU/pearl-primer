{
 "cells": [
  {
   "cell_type": "markdown",
   "metadata": {
    "toc": true
   },
   "source": [
    "<h1>Table of Contents<span class=\"tocSkip\"></span></h1>\n",
    "<div class=\"toc\"><ul class=\"toc-item\"><li><span><a href=\"#Interventions\" data-toc-modified-id=\"Interventions-1\">Interventions</a></span></li><li><span><a href=\"#The-adjustment-formula\" data-toc-modified-id=\"The-adjustment-formula-2\">The adjustment formula</a></span><ul class=\"toc-item\"><li><span><a href=\"#Rule-1:-causal-effect\" data-toc-modified-id=\"Rule-1:-causal-effect-2.1\">Rule 1: causal effect</a></span></li></ul></li><li><span><a href=\"#Study-questions\" data-toc-modified-id=\"Study-questions-3\">Study questions</a></span><ul class=\"toc-item\"><li><span><a href=\"#3.2.1\" data-toc-modified-id=\"3.2.1-3.1\">3.2.1</a></span></li></ul></li><li><span><a href=\"#Multiple-interventions-and-the-truncated-product-rule-(g-formula)\" data-toc-modified-id=\"Multiple-interventions-and-the-truncated-product-rule-(g-formula)-4\">Multiple interventions and the truncated product rule (g-formula)</a></span><ul class=\"toc-item\"><li><span><a href=\"#Example\" data-toc-modified-id=\"Example-4.1\">Example</a></span></li></ul></li><li><span><a href=\"#The-backdoor-criterion\" data-toc-modified-id=\"The-backdoor-criterion-5\">The backdoor criterion</a></span></li><li><span><a href=\"#Study-questions\" data-toc-modified-id=\"Study-questions-6\">Study questions</a></span><ul class=\"toc-item\"><li><span><a href=\"#3.3.1\" data-toc-modified-id=\"3.3.1-6.1\">3.3.1</a></span></li><li><span><a href=\"#3.3.2\" data-toc-modified-id=\"3.3.2-6.2\">3.3.2</a></span></li><li><span><a href=\"#3.3.3\" data-toc-modified-id=\"3.3.3-6.3\">3.3.3</a></span><ul class=\"toc-item\"><li><span><a href=\"#(a)-(wrong-answer)-Draw-a-graph-that-captures-the-story.\" data-toc-modified-id=\"(a)-(wrong-answer)-Draw-a-graph-that-captures-the-story.-6.3.1\">(a) <span class=\"mark\">(wrong answer)</span> Draw a graph that captures the story.</a></span></li><li><span><a href=\"#(b)-(wrong-answer)-Determine-which-variables-must-be-adjusted-for-by-applying-the-backdoor-criterion.\" data-toc-modified-id=\"(b)-(wrong-answer)-Determine-which-variables-must-be-adjusted-for-by-applying-the-backdoor-criterion.-6.3.2\">(b) <span class=\"mark\">(wrong answer)</span> Determine which variables must be adjusted for by applying the backdoor criterion.</a></span></li><li><span><a href=\"#(a)-(correct-answer)\" data-toc-modified-id=\"(a)-(correct-answer)-6.3.3\">(a) (correct answer)</a></span></li><li><span><a href=\"#(b)-(correct-answer)\" data-toc-modified-id=\"(b)-(correct-answer)-6.3.4\">(b) (correct answer)</a></span></li><li><span><a href=\"#(c)-Write-the-adjustment-formula-for-the-effect-of-the-drug-on-recovery.\" data-toc-modified-id=\"(c)-Write-the-adjustment-formula-for-the-effect-of-the-drug-on-recovery.-6.3.5\">(c) Write the adjustment formula for the effect of the drug on recovery.</a></span></li><li><span><a href=\"#(d)-Repeat-questions-(a)–(c)-assuming-that-the-nurse-gave-lollipops-a-day-after-the-study,-still-preferring-patients-who-received-treatment-over-those-who-received-placebo.\" data-toc-modified-id=\"(d)-Repeat-questions-(a)–(c)-assuming-that-the-nurse-gave-lollipops-a-day-after-the-study,-still-preferring-patients-who-received-treatment-over-those-who-received-placebo.-6.3.6\">(d) Repeat questions (a)–(c) assuming that the nurse gave lollipops a day after the study, still preferring patients who received treatment over those who received placebo.</a></span></li></ul></li></ul></li></ul></div>"
   ]
  },
  {
   "cell_type": "markdown",
   "metadata": {},
   "source": [
    "# [*Causal Inference in Statistics: A Primer*](https://www.wiley.com/en-us/Causal+Inference+in+Statistics%3A+A+Primer-p-9781119186847)\n",
    "\n",
    "# Judea Pearl, Madelyn Glymour, Nicholas P. Jewell \n",
    "\n",
    "# Sections 3.1 -- 3.2: Interventions and the adjustment formula\n",
    "\n",
    "---\n",
    "\n",
    "![](https://media.wiley.com/product_data/coverImage300/46/11191868/1119186846.jpg)"
   ]
  },
  {
   "cell_type": "markdown",
   "metadata": {},
   "source": [
    "## Interventions"
   ]
  },
  {
   "cell_type": "markdown",
   "metadata": {},
   "source": [
    "* RCT: randomized controlled trials.\n",
    "\n",
    "* RCE: randomized controlled experiments.\n",
    "\n",
    "* In a properly randomized controlled experiment, all factors that influence the outcome variable are either static, or vary at random, except for one — so any change in the outcome variable must be due to that one input variable.\n",
    "\n",
    "* But not everything can be randomized; e.g., weather.\n",
    "\n",
    "* In cases where randomized controlled experiments are not practical, researchers instead perform *observational studies*, in which they merely record data, rather than controlling it.\n",
    "\n",
    "* The problem of such studies is that it is difficult to untangle the causal from the merely correlative.\n",
    "\n",
    "* Intervention $\\neq$ conditioning.\n",
    "\n",
    "* Fix a value, change the system $\\neq$ change nothing, narrow focus to a subset of cases.\n",
    "\n",
    "* Graph surgery:\n",
    "\n",
    "![](./01-ice-cream.png)\n",
    "\n",
    "![](./02-ice-cream-intervention.png)\n",
    "\n",
    "* Conditioning: $P(Y = y \\mid X = x)$.\n",
    "\n",
    "* Intervening: $P(Y = y \\mid \\text{do}(X = x))$ represents the distribution if *everyone in the population* had  their value of $X$ fixed to $x$.\n",
    "\n",
    "* $P(Y = y \\mid \\text{do}(X = x), Z = z)$ represents the probability of $Y = y$, given $Z = z$, in the population where everyone has $X$ fixed to $x$.\n",
    "\n",
    "* Objective: derive *causal* information from *observational* data.\n",
    "\n",
    "* Assumption: interventions on one variable have no *direct side-effects* on other variables."
   ]
  },
  {
   "cell_type": "markdown",
   "metadata": {},
   "source": [
    "## The adjustment formula"
   ]
  },
  {
   "cell_type": "markdown",
   "metadata": {},
   "source": [
    "* Calculating the difference between giving *everybody* the drug and giving *nobody* the drug:\n",
    "\n",
    "  ![](./03-drug.png)\n",
    "\n",
    "* This is called the *causal effect difference*, or *average causal effect* (ACE).\n",
    "\n",
    "* Graph surgery:\n",
    "\n",
    "  ![](./04-surgery.png)\n",
    "  \n",
    "* The causal effect $P(Y = 1 \\mid \\text{do}(X = 1))$ is equal to\n",
    "    $$\n",
    "    P_m (Y = 1 \\mid X = 1)\n",
    "    $$\n",
    "  where $P_m$ is the probability *in the modified, post-intervention model*.\n",
    "  \n",
    "* To calculate $P(Y = y \\mid \\text{do}(X = x))$, we reason as follows:\n",
    "\n",
    "  ![](./05-adj.jpg)\n",
    "  \n",
    "  Where the line marked (\\*) is justified by\n",
    "\n",
    "  ![](./06-adj.jpg)\n",
    "  \n",
    "  which comes from a previous digression in [chapter 1](../../Ch01/Sec1.5/sec1.5.ipynb#1.5.2): \n",
    "  \n",
    "  ![](../../Ch01/Sec1.5/12-marginalization-conditionals.jpg)\n",
    "  \n",
    "* To conclude, we have\n",
    "  $$\n",
    "  P(Y = y \\mid \\text{do}(X = x)) \\quad=\\quad \\sum_z P(Y = y \\mid X = x, Z = z) \\cdot P(Z = z)\n",
    "  $$\n",
    "  \n",
    "* This basically says that we are randomizing variable $Z$, i.e., we are averaging over all values that $Z$ can take. \n",
    "\n",
    "* In general, we must do that to every parent of $X$, the variable upon which the intervention is done.\n",
    "\n",
    "* Example using data from chapter 1. Note that the adjustment formula tells us to condition on gender ($Z$), find the effect of $X$ separately, and then average the results using the proportions of males and females:\n",
    "\n",
    "  ![](./07-drugs.png)\n",
    "  \n",
    "* Another example:\n",
    "\n",
    "  ![](./08-bp.png)\n",
    "  \n",
    "  - Here, $P(Y \\mid \\text{do}(X))$ is just $P(Y \\mid X)$, because $X$ has no parents.\n",
    "  \n",
    "  - After surgery, the DAG is exactly as before.\n",
    "  \n",
    "  - This means that $X$ is as if randomized."
   ]
  },
  {
   "cell_type": "markdown",
   "metadata": {},
   "source": [
    "### Rule 1: causal effect"
   ]
  },
  {
   "cell_type": "markdown",
   "metadata": {},
   "source": [
    "![](./09-rule.png)"
   ]
  },
  {
   "cell_type": "markdown",
   "metadata": {},
   "source": [
    "## Study questions"
   ]
  },
  {
   "cell_type": "markdown",
   "metadata": {},
   "source": [
    "### 3.2.1"
   ]
  },
  {
   "cell_type": "markdown",
   "metadata": {},
   "source": [
    "Done. See solution manual."
   ]
  },
  {
   "cell_type": "markdown",
   "metadata": {},
   "source": [
    "## Multiple interventions and the truncated product rule (g-formula)"
   ]
  },
  {
   "cell_type": "markdown",
   "metadata": {},
   "source": [
    "![](10-multiple.jpg)"
   ]
  },
  {
   "cell_type": "markdown",
   "metadata": {},
   "source": [
    "### Example"
   ]
  },
  {
   "cell_type": "markdown",
   "metadata": {},
   "source": [
    "Consider the DAG from Fig. 2.9:\n",
    "\n",
    "![](10-z-fig.2.9.png)\n",
    "\n",
    "We want to intervene on $X$ (the book calls it $T$) and on $Z_3$. The new joint distribution will be\n",
    "$$\n",
    "P(z_1, z_2, w, y \\mid \\text{do}(X = x, Z_3 = z_3))\n",
    "$$\n",
    "and will be computed so:\n",
    "\n",
    "![](10-zz-joint.jpg)"
   ]
  },
  {
   "cell_type": "markdown",
   "metadata": {},
   "source": [
    "## The backdoor criterion"
   ]
  },
  {
   "cell_type": "markdown",
   "metadata": {},
   "source": [
    "* ![](11-backdoor.png)\n",
    "\n",
    "* The idea now is that, instead of using $\\text{Parents}(x)$ to calculate $P(Y \\mid \\text{do}(X = x))$, we can use a smaller set of variables $Z$ that satisfies the backdoor criterion. Then we adjust for $Z$ instead of $\\text{Parents}(x)$.\n",
    "\n",
    "* This is particularly useful when $\\text{Parents}(x)$ contains unobservable variables."
   ]
  },
  {
   "cell_type": "markdown",
   "metadata": {},
   "source": [
    "## Study questions"
   ]
  },
  {
   "cell_type": "markdown",
   "metadata": {},
   "source": [
    "### 3.3.1"
   ]
  },
  {
   "cell_type": "markdown",
   "metadata": {},
   "source": [
    "![](12-sq3.1.1.jpg)"
   ]
  },
  {
   "cell_type": "markdown",
   "metadata": {},
   "source": [
    "### 3.3.2"
   ]
  },
  {
   "cell_type": "markdown",
   "metadata": {},
   "source": [
    "![](13-sq.3.3.2.png)  \n",
    "&nbsp;\n",
    "<div style=\"width: 40%; margin: auto\">\n",
    "\n",
    "![](14-sq.3.3.2.jpg)\n",
    "\n",
    "</div>\n",
    "\n",
    "For comparison with Simpson's paradox, see solution manual."
   ]
  },
  {
   "cell_type": "markdown",
   "metadata": {},
   "source": [
    "### 3.3.3"
   ]
  },
  {
   "cell_type": "markdown",
   "metadata": {},
   "source": [
    "Revisit the lollipop story (SQ 1.2.4):\n",
    "\n",
    "> In an attempt to estimate the effectiveness of a new drug, a randomized experiment is conducted. In all, 50% of the patients are assigned to receive the new drug and 50% to receive a placebo. A day before the actual experiment, a nurse hands out lollipops to some patients who show signs of depression, mostly among those who have been assigned to treatment the next day (i.e., the nurse’s round happened to take her through the treatment-bound ward). Strangely, the experimental data revealed a Simpson’s reversal: Although the drug proved beneficial to the population as a whole, drug takers were less likely to recover than nontakers, among both lollipop receivers and lollipop nonreceivers.\n",
    ">\n",
    "> \\[Hint: Use the fact that receiving a lollipop indicates a greater likelihood of being assigned to drug treatment, as well as depression, which is a symptom of risk factors that lower the likelihood of recovery.\\]"
   ]
  },
  {
   "cell_type": "markdown",
   "metadata": {},
   "source": [
    "#### (a) <span class=\"mark\">(wrong answer)</span> Draw a graph that captures the story."
   ]
  },
  {
   "cell_type": "markdown",
   "metadata": {},
   "source": [
    "I'll use the variables\n",
    "$$\n",
    "\\begin{align*}\n",
    "T &= \\text{Treatment} \\\\\n",
    "D &= \\text{Depression} \\\\\n",
    "L &= \\text{Lollipop} \\\\\n",
    "R &= \\text{Recovery} \n",
    "\\end{align*}\n",
    "$$\n",
    "\n",
    "* Treatment affects recovery.\n",
    "* Treatment affects lollipop (because the nurse happened to give out the lollipops in the treatment-bound ward).\n",
    "* Depression affects lollipop (because the nurse gave lollipops to patients who looked depressed).\n",
    "* Depression affects recovery.\n",
    "\n",
    "So my DAG would be\n",
    "\n",
    "<div style=\"width: 50%; margin: auto\">\n",
    "\n",
    "![](15-sq.3.3.3.jpg)\n",
    "\n",
    "</div>"
   ]
  },
  {
   "cell_type": "markdown",
   "metadata": {},
   "source": [
    "#### (b) <span class=\"mark\">(wrong answer)</span> Determine which variables must be adjusted for by applying the backdoor criterion."
   ]
  },
  {
   "cell_type": "markdown",
   "metadata": {},
   "source": [
    "* I want to determine the effect of $T$ on $R$.\n",
    "* But there are no arrows into $T$. Is my DAG wrong?\n",
    "* Well, let's see the other requirements for a set $Z$ to satisfy the backdoor criterion from $T$ to $R$:\n",
    "  - No node in $Z$ is a descendant of $T$, so $L$ cannot be in $Z$.\n",
    "  - If $L$ were adjusted for, the collider path would open.\n",
    "  - $Z$ blocks all paths between $T$ and $R$ that contain an arrow into $T$ (but there are no such paths).\n",
    "* So, if my DAG is correct, there are no adjustments required."
   ]
  },
  {
   "cell_type": "markdown",
   "metadata": {},
   "source": [
    "#### (a) (correct answer)"
   ]
  },
  {
   "cell_type": "markdown",
   "metadata": {},
   "source": [
    "The solution manual says the correct DAG is\n",
    "\n",
    "<div style=\"width: 50%; margin: auto\">\n",
    " \n",
    "![](16-sq.3.3.3.png) \n",
    " \n",
    "</div>\n",
    "\n",
    "where $X$ represents treatment, $Y$ represents recovery, and $Z$ represents lollipop.\n",
    "\n",
    "* Depression is not mentioned (why not?).\n",
    "* $U_1$ represents factors that affect lollipop and treatment, e.g., the nurse giving more lollipops to treatment-bound patients.\n",
    "* $U_2$ represents factors that affect lollipop and recovery, e.g., the nurse giving more lollipops to patients that looked depressed."
   ]
  },
  {
   "cell_type": "markdown",
   "metadata": {},
   "source": [
    "#### (b) (correct answer)"
   ]
  },
  {
   "cell_type": "markdown",
   "metadata": {},
   "source": [
    "Now I can apply the backdoor criterion:\n",
    "\n",
    "* $Z$ is not a descendant of $X$.\n",
    "* But if I condition on $Z$, I open the spurious path $X \\gets U_1 \\to Z \\gets U_2 \\to Y$.\n",
    "* I.e., that path is already blocked.\n",
    "\n",
    "So I shouldn't adjust for anything."
   ]
  },
  {
   "cell_type": "markdown",
   "metadata": {},
   "source": [
    "#### (c) Write the adjustment formula for the effect of the drug on recovery."
   ]
  },
  {
   "cell_type": "markdown",
   "metadata": {},
   "source": [
    "No adjustment is needed, so $$P(y \\mid \\text{do}(x)) = P(y \\mid x)$$"
   ]
  },
  {
   "cell_type": "markdown",
   "metadata": {},
   "source": [
    "#### (d) Repeat questions (a)–(c) assuming that the nurse gave lollipops a day after the study, still preferring patients who received treatment over those who received placebo."
   ]
  },
  {
   "cell_type": "markdown",
   "metadata": {},
   "source": [
    "No change!"
   ]
  }
 ],
 "metadata": {
  "kernelspec": {
   "display_name": "Python 3",
   "language": "python",
   "name": "python3"
  },
  "language_info": {
   "codemirror_mode": {
    "name": "ipython",
    "version": 3
   },
   "file_extension": ".py",
   "mimetype": "text/x-python",
   "name": "python",
   "nbconvert_exporter": "python",
   "pygments_lexer": "ipython3",
   "version": "3.6.7"
  },
  "toc": {
   "base_numbering": 1,
   "nav_menu": {},
   "number_sections": false,
   "sideBar": true,
   "skip_h1_title": true,
   "title_cell": "Table of Contents",
   "title_sidebar": "Contents",
   "toc_cell": true,
   "toc_position": {},
   "toc_section_display": true,
   "toc_window_display": true
  }
 },
 "nbformat": 4,
 "nbformat_minor": 2
}
